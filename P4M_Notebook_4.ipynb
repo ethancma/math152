{
  "nbformat": 4,
  "nbformat_minor": 0,
  "metadata": {
    "kernelspec": {
      "display_name": "Python 3",
      "language": "python",
      "name": "python3"
    },
    "language_info": {
      "codemirror_mode": {
        "name": "ipython",
        "version": 3
      },
      "file_extension": ".py",
      "mimetype": "text/x-python",
      "name": "python",
      "nbconvert_exporter": "python",
      "pygments_lexer": "ipython3",
      "version": "3.6.7"
    },
    "colab": {
      "name": "P4M Notebook 4.ipynb",
      "provenance": [],
      "toc_visible": true,
      "include_colab_link": true
    }
  },
  "cells": [
    {
      "cell_type": "markdown",
      "metadata": {
        "id": "view-in-github",
        "colab_type": "text"
      },
      "source": [
        "<a href=\"https://colab.research.google.com/github/ethancma/math152/blob/main/P4M_Notebook_4.ipynb\" target=\"_parent\"><img src=\"https://colab.research.google.com/assets/colab-badge.svg\" alt=\"Open In Colab\"/></a>"
      ]
    },
    {
      "cell_type": "markdown",
      "metadata": {
        "id": "DxdHENj6G5z_"
      },
      "source": [
        "# Part 4:  Introduction to NumPy and Visualization\n",
        "\n",
        "Python lists -- objects of type `list` -- are flexible containers for all sorts of data.  They can hold numbers, strings, even other lists.  Python excels at list slicing, whereby one can examine and move and write entire \"slices\" of a list at once.  Lists are emblematic of Pythonic elegance.\n",
        "\n",
        "[NumPy](http://www.numpy.org/) (and it's relative SciPy) are packages for numerical and scientific computation in Python.  These packages extend the capability of Python by defining new types which are highly optimized for floating-point and fixed-size integer computation.  They also extend the capability of Python by introducing new list-like types that allow multi-dimensional arrays (like matrices) and allow \"broadcasting\" -- the seemingly-simultaneous application of functions to all terms of such an array.\n",
        "\n",
        "Here we will introduce computation with NumPy.  Since we will be working with large arrays of data, we will also introduce a few techniques for data visualization, using [MatPlotLib](https://matplotlib.org/) (for standard types of graphs) and [Pillow](https://python-pillow.org/) (for low-level graphics manipulation)."
      ]
    },
    {
      "cell_type": "markdown",
      "metadata": {
        "id": "Xs-ILBNLG50C"
      },
      "source": [
        "## Introduction to NumPy\n",
        "\n",
        "To get started, we load the numpy package with the `import numpy as np` command.  This means that all numpy functions will be accessible in the form `np.<function>`.  For example, if we want to compute the square root of a number, using the numpy function, we would call it with `np.sqrt`.\n",
        "\n",
        "To learn more about NumPy, get started with the [NumPy basics documentation](https://docs.scipy.org/doc/numpy/user/basics.html)."
      ]
    },
    {
      "cell_type": "code",
      "metadata": {
        "id": "FlPExeaJG50D"
      },
      "source": [
        "import numpy as np "
      ],
      "execution_count": 1,
      "outputs": []
    },
    {
      "cell_type": "code",
      "metadata": {
        "id": "PfPgOZNXG50D",
        "colab": {
          "base_uri": "https://localhost:8080/"
        },
        "outputId": "c75e3c28-ff51-4fbd-8ece-4fb3d7498198"
      },
      "source": [
        "np.sqrt(10)"
      ],
      "execution_count": 2,
      "outputs": [
        {
          "output_type": "execute_result",
          "data": {
            "text/plain": [
              "3.1622776601683795"
            ]
          },
          "metadata": {},
          "execution_count": 2
        }
      ]
    },
    {
      "cell_type": "markdown",
      "metadata": {
        "id": "XkIhqenVG50E"
      },
      "source": [
        "### NumPy numerical types and \"universal\" functions (ufuncs)"
      ]
    },
    {
      "cell_type": "code",
      "metadata": {
        "id": "q2hpV5uhG50E",
        "colab": {
          "base_uri": "https://localhost:8080/"
        },
        "outputId": "2fb8f419-c1e2-4f83-fbb6-a19c361a3ad5"
      },
      "source": [
        "type(np.sqrt(10))"
      ],
      "execution_count": 3,
      "outputs": [
        {
          "output_type": "execute_result",
          "data": {
            "text/plain": [
              "numpy.float64"
            ]
          },
          "metadata": {},
          "execution_count": 3
        }
      ]
    },
    {
      "cell_type": "markdown",
      "metadata": {
        "id": "AQL642wUG50E"
      },
      "source": [
        "You'll notice right away that numpy has its own types.  The above command should output something like `numpy.float64` or `numpy.float32` (probably the first).  These are floating-point numbers (i.e., approximations of real numbers) which occupy 64 or 32 bits, depending on your computer (or Google's computers, if running on Colab).  The standard numerical types in NumPy are described [in the documentation](https://docs.scipy.org/doc/numpy/user/basics.types.html).  \n",
        "\n",
        "By using specialized numerical types, NumPy is able to take advantage of your computer hardware, which is optimized for arithmetic on certain kinds of numbers.  NumPy types are typically a bit less flexible than pure Python types, e.g., you won't find an \"adjustable\" `int` type.  But for intensive computations, the reduction of flexibility is outweighed by the speed and memory improvements.\n",
        "\n",
        "You can create a variable of a certain numpy type with a command of the form `x = np.<type>(something)`.  For example, let's create a numpy float from scratch."
      ]
    },
    {
      "cell_type": "code",
      "metadata": {
        "id": "haiGvuiSG50E"
      },
      "source": [
        "x = np.float64(3.14) # Not just a float... a numpy-float."
      ],
      "execution_count": 4,
      "outputs": []
    },
    {
      "cell_type": "code",
      "metadata": {
        "id": "WrlJojzPG50F",
        "colab": {
          "base_uri": "https://localhost:8080/"
        },
        "outputId": "3bb4ecfc-b350-4436-ad35-54bd40858123"
      },
      "source": [
        "print(x**10)"
      ],
      "execution_count": 5,
      "outputs": [
        {
          "output_type": "stream",
          "name": "stdout",
          "text": [
            "93174.3733866435\n"
          ]
        }
      ]
    },
    {
      "cell_type": "code",
      "metadata": {
        "id": "sMoTyrkjG50F",
        "colab": {
          "base_uri": "https://localhost:8080/"
        },
        "outputId": "b6233fd5-5248-4472-d884-9a29190dd3f9"
      },
      "source": [
        "type(x**10)"
      ],
      "execution_count": 6,
      "outputs": [
        {
          "output_type": "execute_result",
          "data": {
            "text/plain": [
              "numpy.float64"
            ]
          },
          "metadata": {},
          "execution_count": 6
        }
      ]
    },
    {
      "cell_type": "markdown",
      "metadata": {
        "id": "S5Fmdh-bG50F"
      },
      "source": [
        "This is useful, if we want to tell our computer explicitly to use numpy for some computations instead of using the Python defaults.  But beware that types can be restrictive -- this is a good thing, in practice, but takes some getting used to.\n",
        "\n",
        "We will be using the type `uint8` type a bit later.  This stands for 8-bit *unsigned* integers.  These are non-negative integers that can be encoded with 8 bits of information, i.e., whose binary expansion has eight ones and zeros.  For example, the 8-bit binary expression 10101010 stands for the integer 128+32+8+2 = 170.  Note that 8 bits = 1 byte... so each uint8 occupies one byte of memory.  \n",
        "\n",
        "An 8-bit unsigned integer can represent integers between 0 and 255 (inclusive).  If your computations exceed this range, then a warning/error will result!"
      ]
    },
    {
      "cell_type": "code",
      "metadata": {
        "id": "KYbH9d-9G50F"
      },
      "source": [
        "n = np.uint8(137) # n is an 8-bit unsigned integer."
      ],
      "execution_count": 7,
      "outputs": []
    },
    {
      "cell_type": "code",
      "metadata": {
        "id": "P1iN1H9AG50F",
        "colab": {
          "base_uri": "https://localhost:8080/",
          "height": 37
        },
        "outputId": "f73e31e4-6ef7-41ab-b7a9-0f394097d003"
      },
      "source": [
        "bin(n) # The bits of n are in the string below, after the '0b'.  "
      ],
      "execution_count": 8,
      "outputs": [
        {
          "output_type": "execute_result",
          "data": {
            "text/plain": [
              "'0b10001001'"
            ],
            "application/vnd.google.colaboratory.intrinsic+json": {
              "type": "string"
            }
          },
          "metadata": {},
          "execution_count": 8
        }
      ]
    },
    {
      "cell_type": "code",
      "metadata": {
        "id": "6VxxehF2G50G",
        "colab": {
          "base_uri": "https://localhost:8080/"
        },
        "outputId": "d965c28c-8d02-4750-a378-e4642d3d9521"
      },
      "source": [
        "print(n)"
      ],
      "execution_count": 9,
      "outputs": [
        {
          "output_type": "stream",
          "name": "stdout",
          "text": [
            "137\n"
          ]
        }
      ]
    },
    {
      "cell_type": "code",
      "metadata": {
        "id": "xwiiYIZHG50G",
        "colab": {
          "base_uri": "https://localhost:8080/"
        },
        "outputId": "bb0c814a-6520-4d9d-e2f2-3bcec87ceefc"
      },
      "source": [
        "print(n*n) # Uh oh overflow."
      ],
      "execution_count": 10,
      "outputs": [
        {
          "output_type": "stream",
          "name": "stdout",
          "text": [
            "81\n"
          ]
        },
        {
          "output_type": "stream",
          "name": "stderr",
          "text": [
            "<ipython-input-10-f4fababb22e9>:1: RuntimeWarning: overflow encountered in ubyte_scalars\n",
            "  print(n*n) # Uh oh overflow.\n"
          ]
        }
      ]
    },
    {
      "cell_type": "markdown",
      "metadata": {
        "id": "YhWxBx6GG50G"
      },
      "source": [
        "These kind of restrictions are good and bad.  The bad is that more error messages will pop out and sometimes crash your functions.  Overflows can lead to *wrong* outputs.  The good is that you will be able to harness your computer's processor more effectively, and you will be forced to program more carefully.\n",
        "\n",
        "NumPy also comes with some familiar constants:  $e$, $\\pi$, and Euler's $\\gamma$ (which you approximated before)."
      ]
    },
    {
      "cell_type": "code",
      "metadata": {
        "id": "CGNI-a7DG50G",
        "colab": {
          "base_uri": "https://localhost:8080/"
        },
        "outputId": "ee5c7e4a-4480-4dce-bfde-1f3544928d53"
      },
      "source": [
        "print(np.e)"
      ],
      "execution_count": 11,
      "outputs": [
        {
          "output_type": "stream",
          "name": "stdout",
          "text": [
            "2.718281828459045\n"
          ]
        }
      ]
    },
    {
      "cell_type": "code",
      "metadata": {
        "id": "QMvHz4nVG50G",
        "colab": {
          "base_uri": "https://localhost:8080/"
        },
        "outputId": "f82689f0-16c3-4c4c-d9d1-67debe95eaf3"
      },
      "source": [
        "print(np.pi)"
      ],
      "execution_count": 12,
      "outputs": [
        {
          "output_type": "stream",
          "name": "stdout",
          "text": [
            "3.141592653589793\n"
          ]
        }
      ]
    },
    {
      "cell_type": "code",
      "metadata": {
        "id": "Yx2vgQLSG50G",
        "colab": {
          "base_uri": "https://localhost:8080/"
        },
        "outputId": "a91693f1-f3c2-4858-baf5-dbdb89532177"
      },
      "source": [
        "print(np.euler_gamma) # The harmonic sum minus the logarithm, remember?"
      ],
      "execution_count": 13,
      "outputs": [
        {
          "output_type": "stream",
          "name": "stdout",
          "text": [
            "0.5772156649015329\n"
          ]
        }
      ]
    },
    {
      "cell_type": "markdown",
      "metadata": {
        "id": "zSWZRHP3G50H"
      },
      "source": [
        "NumPy also comes with a zoo of highly optimized, \"broadcastable\" (we'll see what this means soon) functions.  Examples include square roots, trig functions, exponentials and logarithms, GCD, and more.  A nice list of these \"universal functions\" is [in the documentation](https://docs.scipy.org/doc/numpy/reference/ufuncs.html#math-operations)."
      ]
    },
    {
      "cell_type": "code",
      "metadata": {
        "id": "oFz-Pg4aG50H",
        "colab": {
          "base_uri": "https://localhost:8080/"
        },
        "outputId": "76b991ea-9332-4d4c-a044-0ce773a14d81"
      },
      "source": [
        "np.sin(np.pi / 4) # What will this be?  Remember precalculus?"
      ],
      "execution_count": 14,
      "outputs": [
        {
          "output_type": "execute_result",
          "data": {
            "text/plain": [
              "0.7071067811865475"
            ]
          },
          "metadata": {},
          "execution_count": 14
        }
      ]
    },
    {
      "cell_type": "code",
      "metadata": {
        "id": "U9wfP0R-G50H",
        "colab": {
          "base_uri": "https://localhost:8080/"
        },
        "outputId": "4d72a508-1d5c-45f7-9eae-ef1d3e5cf9d0"
      },
      "source": [
        "np.sqrt(2) / 2 # For comparison.  Note the little deviation from above... these can add up!!"
      ],
      "execution_count": 15,
      "outputs": [
        {
          "output_type": "execute_result",
          "data": {
            "text/plain": [
              "0.7071067811865476"
            ]
          },
          "metadata": {},
          "execution_count": 15
        }
      ]
    },
    {
      "cell_type": "code",
      "metadata": {
        "id": "SAM1qy_iG50H",
        "colab": {
          "base_uri": "https://localhost:8080/"
        },
        "outputId": "fe1df0d4-c87f-416f-8399-0f29b5ca2fbc"
      },
      "source": [
        "np.arctan(1) # The arctangent, or inverse tangent function"
      ],
      "execution_count": 16,
      "outputs": [
        {
          "output_type": "execute_result",
          "data": {
            "text/plain": [
              "0.7853981633974483"
            ]
          },
          "metadata": {},
          "execution_count": 16
        }
      ]
    },
    {
      "cell_type": "code",
      "metadata": {
        "id": "Rzxk9OWlG50H",
        "colab": {
          "base_uri": "https://localhost:8080/"
        },
        "outputId": "b0d4641f-bbf7-448b-ab48-30e4528736e6"
      },
      "source": [
        "np.pi / 4"
      ],
      "execution_count": 17,
      "outputs": [
        {
          "output_type": "execute_result",
          "data": {
            "text/plain": [
              "0.7853981633974483"
            ]
          },
          "metadata": {},
          "execution_count": 17
        }
      ]
    },
    {
      "cell_type": "code",
      "metadata": {
        "id": "9vw840QfG50H",
        "colab": {
          "base_uri": "https://localhost:8080/"
        },
        "outputId": "6c6471a5-8436-4e5a-de35-3dbc320c9a30"
      },
      "source": [
        "np.hypot(3,4) # Guess what this does!"
      ],
      "execution_count": 18,
      "outputs": [
        {
          "output_type": "execute_result",
          "data": {
            "text/plain": [
              "5.0"
            ]
          },
          "metadata": {},
          "execution_count": 18
        }
      ]
    },
    {
      "cell_type": "markdown",
      "metadata": {
        "id": "zYtuGB3sG50I"
      },
      "source": [
        "### Python arrays\n",
        "\n",
        "So far, we have seen that NumPy extends Python with more types for numbers, more constants, and more functions.  This is all useful, especially for math and science applications.  But the place where NumPy really offers a big improvement is in its handling of arrays.\n",
        "\n",
        "A NumPy array is like a Python list... but less flexible in its contents, more flexible in its shape and size, and much more efficient for large-scale computations.  Let's begin by doing things that we know for lists, just within NumPy arrays instead."
      ]
    },
    {
      "cell_type": "code",
      "metadata": {
        "id": "braipmb9G50I",
        "colab": {
          "base_uri": "https://localhost:8080/"
        },
        "outputId": "af927f23-eb62-448d-f35c-304b66aaaa2f"
      },
      "source": [
        "L = np.array([1,2,3,4,5,6,7,8,9,10]) # Make a NumPy array from a list of numbers.\n",
        "print(L) # Looks like a list."
      ],
      "execution_count": 19,
      "outputs": [
        {
          "output_type": "stream",
          "name": "stdout",
          "text": [
            "[ 1  2  3  4  5  6  7  8  9 10]\n"
          ]
        }
      ]
    },
    {
      "cell_type": "code",
      "metadata": {
        "id": "bplXlKrSG50I",
        "colab": {
          "base_uri": "https://localhost:8080/"
        },
        "outputId": "da65ed20-ded1-4593-e045-2e68e558af2f"
      },
      "source": [
        "print([1,2,3,4,5,6,7,8,9,10]) # But a Python list is printed with commas."
      ],
      "execution_count": 20,
      "outputs": [
        {
          "output_type": "stream",
          "name": "stdout",
          "text": [
            "[1, 2, 3, 4, 5, 6, 7, 8, 9, 10]\n"
          ]
        }
      ]
    },
    {
      "cell_type": "code",
      "metadata": {
        "id": "G8rpAI6VG50I",
        "colab": {
          "base_uri": "https://localhost:8080/"
        },
        "outputId": "a6a5af70-b240-4442-e0c1-2bd47a7b7d9f"
      },
      "source": [
        "print(L[0])  # NumPy arrays are indexed like plain-Python arrays.  Start at zero."
      ],
      "execution_count": 21,
      "outputs": [
        {
          "output_type": "stream",
          "name": "stdout",
          "text": [
            "1\n"
          ]
        }
      ]
    },
    {
      "cell_type": "code",
      "metadata": {
        "id": "-c82_FLbG50I",
        "colab": {
          "base_uri": "https://localhost:8080/"
        },
        "outputId": "9d7247f0-c651-49fc-bcf9-ea06c88cff68"
      },
      "source": [
        "print(L[-1]) # Familiar Python indexing tricks are supported."
      ],
      "execution_count": 22,
      "outputs": [
        {
          "output_type": "stream",
          "name": "stdout",
          "text": [
            "10\n"
          ]
        }
      ]
    },
    {
      "cell_type": "code",
      "metadata": {
        "id": "tynZI_jEG50I",
        "colab": {
          "base_uri": "https://localhost:8080/"
        },
        "outputId": "0fc1c90d-c0e2-4696-8d74-7eb920f13ac6"
      },
      "source": [
        "type(L) # But really, L is not a list!  It's a numpy.ndarray"
      ],
      "execution_count": 23,
      "outputs": [
        {
          "output_type": "execute_result",
          "data": {
            "text/plain": [
              "numpy.ndarray"
            ]
          },
          "metadata": {},
          "execution_count": 23
        }
      ]
    },
    {
      "cell_type": "code",
      "metadata": {
        "id": "AFopmu7mG50J",
        "colab": {
          "base_uri": "https://localhost:8080/"
        },
        "outputId": "a1ce5f25-5f5f-42b7-9dca-6d4fa358372a"
      },
      "source": [
        "type(L[0]) # NumPy is treating the terms with numpy types.  int64 is a 64-bit signed integer type."
      ],
      "execution_count": 24,
      "outputs": [
        {
          "output_type": "execute_result",
          "data": {
            "text/plain": [
              "numpy.int64"
            ]
          },
          "metadata": {},
          "execution_count": 24
        }
      ]
    },
    {
      "cell_type": "code",
      "metadata": {
        "id": "XJYk7ZdxG50J",
        "colab": {
          "base_uri": "https://localhost:8080/"
        },
        "outputId": "ba645abf-b7ed-495c-828f-07c237a6c543"
      },
      "source": [
        "print(L[1::3]) # Python list slices are supported in NumPy arrays."
      ],
      "execution_count": 25,
      "outputs": [
        {
          "output_type": "stream",
          "name": "stdout",
          "text": [
            "[2 5 8]\n"
          ]
        }
      ]
    },
    {
      "cell_type": "markdown",
      "metadata": {
        "id": "EJqPCwNKG50J"
      },
      "source": [
        "So far, so good.  The NumPy array looks just like a Python list.  We can slice and access terms in the same way.  The only visible difference so far is that the type is different, using type `numpy.ndarray` for the array and `numpy.int64` for each of the terms.  Here is the [official documentation](https://numpy.org/doc/stable/reference/generated/numpy.ndarray.html) on the `numpy.ndarray` type. \n",
        "\n",
        "Here is where NumPy arrays really start to differ from lists."
      ]
    },
    {
      "cell_type": "code",
      "metadata": {
        "id": "PHaATagdG50J",
        "colab": {
          "base_uri": "https://localhost:8080/"
        },
        "outputId": "84425690-b83a-4874-da0f-dbd5a3920578"
      },
      "source": [
        "L + L # What would this do for a list?"
      ],
      "execution_count": 26,
      "outputs": [
        {
          "output_type": "execute_result",
          "data": {
            "text/plain": [
              "array([ 2,  4,  6,  8, 10, 12, 14, 16, 18, 20])"
            ]
          },
          "metadata": {},
          "execution_count": 26
        }
      ]
    },
    {
      "cell_type": "code",
      "metadata": {
        "id": "km0mDD8qG50J",
        "colab": {
          "base_uri": "https://localhost:8080/"
        },
        "outputId": "d82d0a0e-7d29-409e-9c10-2eda0eea86ae"
      },
      "source": [
        "7 * L # What would this do for a list?"
      ],
      "execution_count": 27,
      "outputs": [
        {
          "output_type": "execute_result",
          "data": {
            "text/plain": [
              "array([ 7, 14, 21, 28, 35, 42, 49, 56, 63, 70])"
            ]
          },
          "metadata": {},
          "execution_count": 27
        }
      ]
    },
    {
      "cell_type": "code",
      "metadata": {
        "id": "3mf5wWzCG50J",
        "colab": {
          "base_uri": "https://localhost:8080/"
        },
        "outputId": "354e7295-8db4-4d4a-9d43-35d2c85d61d9"
      },
      "source": [
        "L * L # What would this do for a list?"
      ],
      "execution_count": 28,
      "outputs": [
        {
          "output_type": "execute_result",
          "data": {
            "text/plain": [
              "array([  1,   4,   9,  16,  25,  36,  49,  64,  81, 100])"
            ]
          },
          "metadata": {},
          "execution_count": 28
        }
      ]
    },
    {
      "cell_type": "code",
      "metadata": {
        "id": "vkRj5WjBG50K",
        "colab": {
          "base_uri": "https://localhost:8080/"
        },
        "outputId": "3f00f231-aeae-4d1c-9688-12139b5592df"
      },
      "source": [
        "np.sin(L) # What would this do for a list?"
      ],
      "execution_count": 29,
      "outputs": [
        {
          "output_type": "execute_result",
          "data": {
            "text/plain": [
              "array([ 0.84147098,  0.90929743,  0.14112001, -0.7568025 , -0.95892427,\n",
              "       -0.2794155 ,  0.6569866 ,  0.98935825,  0.41211849, -0.54402111])"
            ]
          },
          "metadata": {},
          "execution_count": 29
        }
      ]
    },
    {
      "cell_type": "markdown",
      "metadata": {
        "id": "XZyAmyhaG50K"
      },
      "source": [
        "WOAH!  That's completely different than how lists behave.  These computations indicate an important benefit of NumPy.  NumPy is really really good at doing functions to whole arrays of numbers.  In fact, if you try to operate on NumPy arrays, NumPy will try really hard to do the same function many times -- sometimes it will throw an error, but it is meant to behave well.\n",
        "\n",
        "A tradeoff is that NumPy arrays are less flexible than Python lists.  In particular, items in a NumPy array must *all have the same type*.  For example, consider the array below."
      ]
    },
    {
      "cell_type": "code",
      "metadata": {
        "id": "VzUACpuMG50K",
        "colab": {
          "base_uri": "https://localhost:8080/"
        },
        "outputId": "7496cbea-2ffe-49cc-cc44-a1b39cb9e335"
      },
      "source": [
        "M = np.array([1,2.5,3])  # It looks like an int, float, and int.\n",
        "for m in M:\n",
        "    print(m,\" has type \",type(m)) # What do you think this will do?"
      ],
      "execution_count": 30,
      "outputs": [
        {
          "output_type": "stream",
          "name": "stdout",
          "text": [
            "1.0  has type  <class 'numpy.float64'>\n",
            "2.5  has type  <class 'numpy.float64'>\n",
            "3.0  has type  <class 'numpy.float64'>\n"
          ]
        }
      ]
    },
    {
      "cell_type": "code",
      "metadata": {
        "id": "EnrygH9XG50K",
        "colab": {
          "base_uri": "https://localhost:8080/"
        },
        "outputId": "da153012-0a1d-4d32-9dbc-47c91d3593cf"
      },
      "source": [
        "N = [1, 2.5, 3]\n",
        "for n in N:\n",
        "    print(n, \"has type \",type(n)) # Plain Python lists are type-flexible."
      ],
      "execution_count": 31,
      "outputs": [
        {
          "output_type": "stream",
          "name": "stdout",
          "text": [
            "1 has type  <class 'int'>\n",
            "2.5 has type  <class 'float'>\n",
            "3 has type  <class 'int'>\n"
          ]
        }
      ]
    },
    {
      "cell_type": "markdown",
      "metadata": {
        "id": "iPxR4mM3G50K"
      },
      "source": [
        "NumPy will try to *coerce* lists so that all items have the same type.  This can lead to awkward results.  Be careful, and use the `type` command if you're unsure what happened!"
      ]
    },
    {
      "cell_type": "code",
      "metadata": {
        "id": "YxkIMS5AG50K",
        "colab": {
          "base_uri": "https://localhost:8080/"
        },
        "outputId": "f7369c60-3433-467d-8f99-e62a8041509f"
      },
      "source": [
        "O = np.array([False, 2.5, 'Hello']) # NumPy has its own string type too.\n",
        "for o in O:\n",
        "    print(o, \"has type \",type(o))"
      ],
      "execution_count": 32,
      "outputs": [
        {
          "output_type": "stream",
          "name": "stdout",
          "text": [
            "False has type  <class 'numpy.str_'>\n",
            "2.5 has type  <class 'numpy.str_'>\n",
            "Hello has type  <class 'numpy.str_'>\n"
          ]
        }
      ]
    },
    {
      "cell_type": "code",
      "metadata": {
        "id": "R_T6mGsrHhi2",
        "colab": {
          "base_uri": "https://localhost:8080/"
        },
        "outputId": "0064d6b0-c0b2-473e-cba4-a0c610ab2971"
      },
      "source": [
        "print(O) # Look at what numpy has done to O!"
      ],
      "execution_count": 33,
      "outputs": [
        {
          "output_type": "stream",
          "name": "stdout",
          "text": [
            "['False' '2.5' 'Hello']\n"
          ]
        }
      ]
    },
    {
      "cell_type": "code",
      "metadata": {
        "id": "-yClO2YYG50L",
        "colab": {
          "base_uri": "https://localhost:8080/"
        },
        "outputId": "0f2dcb85-cf47-4142-cc98-2c6ec4a30127"
      },
      "source": [
        "P = np.array([1, [2,3]]) # NumPy will not be happy with this.  "
      ],
      "execution_count": 34,
      "outputs": [
        {
          "output_type": "stream",
          "name": "stderr",
          "text": [
            "<ipython-input-34-9fb7854545ca>:1: VisibleDeprecationWarning: Creating an ndarray from ragged nested sequences (which is a list-or-tuple of lists-or-tuples-or ndarrays with different lengths or shapes) is deprecated. If you meant to do this, you must specify 'dtype=object' when creating the ndarray.\n",
            "  P = np.array([1, [2,3]]) # NumPy will not be happy with this.\n"
          ]
        }
      ]
    },
    {
      "cell_type": "markdown",
      "metadata": {
        "id": "ao6PS_RnG50L"
      },
      "source": [
        "### Exercises\n",
        "\n",
        "1.  Use an np.array to make an array of square roots of all the numbers from 1 to 100.  The first few should be 1.0, 1.414..., 1.732.  Use the np.sqrt function and arrays, *not* a for or while loop.\n",
        "\n",
        "2.  Now do the same as above, but using plain Python lists.  Use the %timeit tool to compare the speed of the np.array approach with the plain Python approach.\n",
        "\n",
        "3.  If `L` is a list, what do the commands `L+L`, `7*L`, `L*L` produce?  How is this different from the results if `L` were a numpy array?\n",
        "\n",
        "4.  What types get coerced into what other types, when making a numpy array out of a mixed-type list?"
      ]
    },
    {
      "cell_type": "code",
      "metadata": {
        "id": "AxofGzVIG50L"
      },
      "source": [
        "# Use this space to complete the exercises. \n",
        "# Please put each exercise in a separate execution or markdown cell!  "
      ],
      "execution_count": 35,
      "outputs": []
    },
    {
      "cell_type": "code",
      "source": [
        "# 1.\n",
        "%timeit np_root_array = np.sqrt(np.array([range(1, 101)]))\n"
      ],
      "metadata": {
        "colab": {
          "base_uri": "https://localhost:8080/"
        },
        "id": "msiUat-NMqnk",
        "outputId": "0b194a18-413f-4871-e57b-fb62caae5649"
      },
      "execution_count": 36,
      "outputs": [
        {
          "output_type": "stream",
          "name": "stdout",
          "text": [
            "25 µs ± 5.26 µs per loop (mean ± std. dev. of 7 runs, 10000 loops each)\n"
          ]
        }
      ]
    },
    {
      "cell_type": "code",
      "source": [
        "# 2.\n",
        "from math import sqrt\n",
        "%timeit python_root_list = [sqrt(i) for i in range(1, 101)]\n",
        "%timeit python_root_list_slow = [np.sqrt(i) for i in range(1, 101)]\n",
        "\n",
        "\"\"\"\n",
        "note the method through plain python lists are faster in this case because\n",
        "the sqrt() function of numpy is the bottle neck. math.sqrt() is much faster\n",
        "than numpy.sqrt(). Running the same code with np.sqrt() instead took around\n",
        "164 micro seconds.\n",
        "\"\"\""
      ],
      "metadata": {
        "colab": {
          "base_uri": "https://localhost:8080/",
          "height": 105
        },
        "id": "IGcvmL48OEgt",
        "outputId": "51a3fd0d-7faa-4eb1-ae8c-df7f959ba96a"
      },
      "execution_count": 37,
      "outputs": [
        {
          "output_type": "stream",
          "name": "stdout",
          "text": [
            "34.3 µs ± 7.6 µs per loop (mean ± std. dev. of 7 runs, 100000 loops each)\n",
            "144 µs ± 39.5 µs per loop (mean ± std. dev. of 7 runs, 10000 loops each)\n"
          ]
        },
        {
          "output_type": "execute_result",
          "data": {
            "text/plain": [
              "'\\nnote the method through plain python lists are faster in this case because\\nthe sqrt() function of numpy is the bottle neck. math.sqrt() is much faster\\nthan numpy.sqrt(). Running the same code with np.sqrt() instead took around\\n164 micro seconds.\\n'"
            ],
            "application/vnd.google.colaboratory.intrinsic+json": {
              "type": "string"
            }
          },
          "metadata": {},
          "execution_count": 37
        }
      ]
    },
    {
      "cell_type": "code",
      "source": [
        "# 3.\n",
        "\"\"\"\n",
        "If L is a python list, L + L would result in the contents of L appended twice.\n",
        "7 * L would result in the contents of L appended 7 times in a row.\n",
        "L * L would result in an error since that is an operation for integers.\n",
        "\"\"\""
      ],
      "metadata": {
        "id": "zCh9TL8bPhan",
        "outputId": "13b6dd49-8012-4cac-be09-0a3e0b2d0f59",
        "colab": {
          "base_uri": "https://localhost:8080/",
          "height": 71
        }
      },
      "execution_count": 38,
      "outputs": [
        {
          "output_type": "execute_result",
          "data": {
            "text/plain": [
              "'\\nIf L is a python list, L + L would result in the contents of L appended twice.\\n7 * L would result in the contents of L appended 7 times in a row.\\nL * L would result in an error since that is an operation for integers.\\n'"
            ],
            "application/vnd.google.colaboratory.intrinsic+json": {
              "type": "string"
            }
          },
          "metadata": {},
          "execution_count": 38
        }
      ]
    },
    {
      "cell_type": "code",
      "source": [
        "# 4. \n",
        "\"\"\"\n",
        "Types will typically get coerced into strings if there exists some other string\n",
        "within the np array. One case, though, could be seen where we are given a mix of\n",
        "integers and floats, and in this case the floats would take precedence and\n",
        "integers would be casted and stored as floats. Booleans, integers, and floats\n",
        "would be stored as strings if there were a list of booleans, integers, and\n",
        "floats mixed together. However, mixing lists and other types will result in\n",
        "errors.\n",
        "\"\"\""
      ],
      "metadata": {
        "id": "HGPCCDnzQEzF",
        "outputId": "485f4ce2-5501-4af7-9366-d32b7204f27f",
        "colab": {
          "base_uri": "https://localhost:8080/",
          "height": 105
        }
      },
      "execution_count": 39,
      "outputs": [
        {
          "output_type": "execute_result",
          "data": {
            "text/plain": [
              "'\\nTypes will typically get coerced into strings if there exists some other string\\nwithin the np array. One case, though, could be seen where we are given a mix of\\nintegers and floats, and in this case the floats would take precedence and\\nintegers would be casted and stored as floats. Booleans, integers, and floats\\nwould be stored as strings if there were a list of booleans, integers, and\\nfloats mixed together. However, mixing lists and other types will result in\\nerrors.\\n'"
            ],
            "application/vnd.google.colaboratory.intrinsic+json": {
              "type": "string"
            }
          },
          "metadata": {},
          "execution_count": 39
        }
      ]
    },
    {
      "cell_type": "markdown",
      "metadata": {
        "id": "q2FM0Vk8G50L"
      },
      "source": [
        "## Higher-dimensional arrays\n",
        "\n",
        "Lists in Python are \"one-dimensional\".  A list like `L = [1,2,3]` has a zeroth, first, and second item (or \"element\" or \"entry\"), which can be retrieved with `L[0]` or `L[1]` or `L[2]`.  For matrices, or other multidimensional arrangements, one might wish for a list which is \"doubly-indexed\" -- something where the entries would be retrieved with a command like `L[1,2]` (for something in the 1st row and 2nd column).  It's possible to make this work in plain Python by using lists of lists.  For example, if `M = [[1,2],[3,4]]` is a list of lists, then you can retrieve numbers with commands like `M[0][1]`.  But this gets a bit cumbersome and is not optimized for typical operations on matrices.\n",
        "\n",
        "### Making multidimensional arrays\n",
        "\n",
        "NumPy arrays can be, and often are, multidimensional.  In fact, why is the NumPy type called `numpy.ndarray` instead of `numpy.array`?  The `nd` in `ndarray` stands for \"n-D\" or \"n-dimensional\".  Accessing elements and slicing multidimensional arrays takes a bit of practice, and that's what we'll do here."
      ]
    },
    {
      "cell_type": "code",
      "metadata": {
        "id": "8Hb4SqpzG50L"
      },
      "source": [
        "M = np.array([[1,2,3],[4,5,6]])  # Put a list of lists into an array."
      ],
      "execution_count": 40,
      "outputs": []
    },
    {
      "cell_type": "code",
      "metadata": {
        "id": "ohkl10AjG50M",
        "colab": {
          "base_uri": "https://localhost:8080/"
        },
        "outputId": "fff60361-16c4-48ad-d360-2ca75aca234f"
      },
      "source": [
        "print(M)"
      ],
      "execution_count": 41,
      "outputs": [
        {
          "output_type": "stream",
          "name": "stdout",
          "text": [
            "[[1 2 3]\n",
            " [4 5 6]]\n"
          ]
        }
      ]
    },
    {
      "cell_type": "markdown",
      "metadata": {
        "id": "sN5IfLnAG50M"
      },
      "source": [
        "If we put a list of lists into an `np.array` then NumPy will try to put it into a single \"multi-dimensional\" array.  Here, NumPy has taken a list of two lists and assembled the items into a two-by-three matrix.  When you use the print command, it will print nicely."
      ]
    },
    {
      "cell_type": "code",
      "metadata": {
        "id": "PnmUbb-VG50M",
        "colab": {
          "base_uri": "https://localhost:8080/"
        },
        "outputId": "7fe35098-bd8e-4a74-e1af-edf5c5d29446"
      },
      "source": [
        "BadM = np.array([[1,2,3],[1,2]])  # Bad idea."
      ],
      "execution_count": 42,
      "outputs": [
        {
          "output_type": "stream",
          "name": "stderr",
          "text": [
            "<ipython-input-42-230213a6541e>:1: VisibleDeprecationWarning: Creating an ndarray from ragged nested sequences (which is a list-or-tuple of lists-or-tuples-or ndarrays with different lengths or shapes) is deprecated. If you meant to do this, you must specify 'dtype=object' when creating the ndarray.\n",
            "  BadM = np.array([[1,2,3],[1,2]])  # Bad idea.\n"
          ]
        }
      ]
    },
    {
      "cell_type": "code",
      "metadata": {
        "id": "EVDW8gFOG50M",
        "colab": {
          "base_uri": "https://localhost:8080/"
        },
        "outputId": "d9dc0472-ec0b-4e85-f791-4bbc85ed29ae"
      },
      "source": [
        "print(BadM) # This will not be pretty."
      ],
      "execution_count": 43,
      "outputs": [
        {
          "output_type": "stream",
          "name": "stdout",
          "text": [
            "[list([1, 2, 3]) list([1, 2])]\n"
          ]
        }
      ]
    },
    {
      "cell_type": "markdown",
      "metadata": {
        "id": "sQ5m0NrVG50M"
      },
      "source": [
        "If your lists don't have the right size to form a matrix, numpy will fail to create a multidimensional array.  It will do its best, but the results won't be pretty!\n",
        "\n",
        "Returning to our nice matrix `M`... just as lists have a single *length* accessed with `len`, multidimensional arrays have a `shape` which describes the number of rows, columns, etc..  This is accessed with the shape *method*."
      ]
    },
    {
      "cell_type": "code",
      "metadata": {
        "id": "0bdGc2NOG50M",
        "colab": {
          "base_uri": "https://localhost:8080/"
        },
        "outputId": "14ba17ae-51f7-4512-b663-08f2183ed987"
      },
      "source": [
        "print(M)\n",
        "M.shape  # shape is an attribute of every matrix.  You don't write shape(M), you write M.shape  "
      ],
      "execution_count": 44,
      "outputs": [
        {
          "output_type": "stream",
          "name": "stdout",
          "text": [
            "[[1 2 3]\n",
            " [4 5 6]]\n"
          ]
        },
        {
          "output_type": "execute_result",
          "data": {
            "text/plain": [
              "(2, 3)"
            ]
          },
          "metadata": {},
          "execution_count": 44
        }
      ]
    },
    {
      "cell_type": "code",
      "metadata": {
        "id": "UTXJVVAfG50M",
        "colab": {
          "base_uri": "https://localhost:8080/"
        },
        "outputId": "ab6881da-7aca-43c1-f7c2-02239170995f"
      },
      "source": [
        "type(M.shape) # We haven't seen this type in a while!"
      ],
      "execution_count": 45,
      "outputs": [
        {
          "output_type": "execute_result",
          "data": {
            "text/plain": [
              "tuple"
            ]
          },
          "metadata": {},
          "execution_count": 45
        }
      ]
    },
    {
      "cell_type": "code",
      "metadata": {
        "scrolled": true,
        "id": "TeAShdJCG50N",
        "colab": {
          "base_uri": "https://localhost:8080/"
        },
        "outputId": "7ebfe6f2-b195-40ba-f668-e9f9822d1c95"
      },
      "source": [
        "print(2*M)"
      ],
      "execution_count": 46,
      "outputs": [
        {
          "output_type": "stream",
          "name": "stdout",
          "text": [
            "[[ 2  4  6]\n",
            " [ 8 10 12]]\n"
          ]
        }
      ]
    },
    {
      "cell_type": "code",
      "metadata": {
        "id": "FlaNs9_FG50N",
        "colab": {
          "base_uri": "https://localhost:8080/"
        },
        "outputId": "f6cf3325-433a-4861-a311-9650311111c9"
      },
      "source": [
        "print(M*M)"
      ],
      "execution_count": 47,
      "outputs": [
        {
          "output_type": "stream",
          "name": "stdout",
          "text": [
            "[[ 1  4  9]\n",
            " [16 25 36]]\n"
          ]
        }
      ]
    },
    {
      "cell_type": "markdown",
      "metadata": {
        "id": "-jO7OBwmG50N"
      },
      "source": [
        "Basic operations and numpy-enabled functions are \"broadcast\" through higher-dimensional arrays, just like they are through one-dimensional list-like arrays.\n",
        "\n",
        "Sometimes it is useful to create arrays of a given shape that are empty, or full of zeros, or full of ones, or full of a single number, or full of random numbers.  You can read about more ways to create arrays from [the official documentation](https://numpy.org/doc/stable/user/basics.creation.html).  The following examples were taken from [another tutorial](http://cs231n.github.io/python-numpy-tutorial/#scipy-image)"
      ]
    },
    {
      "cell_type": "code",
      "metadata": {
        "id": "0I-GFaj3G50N",
        "colab": {
          "base_uri": "https://localhost:8080/"
        },
        "outputId": "5b0b9b74-4db4-44a6-d755-984ab1b9192a"
      },
      "source": [
        "a = np.zeros((3,4))   # Create an array of all zeros, of the given shape (3 rows, 4 columns)\n",
        "print(a)            "
      ],
      "execution_count": 48,
      "outputs": [
        {
          "output_type": "stream",
          "name": "stdout",
          "text": [
            "[[0. 0. 0. 0.]\n",
            " [0. 0. 0. 0.]\n",
            " [0. 0. 0. 0.]]\n"
          ]
        }
      ]
    },
    {
      "cell_type": "code",
      "metadata": {
        "id": "0dgg3QkDG50N",
        "colab": {
          "base_uri": "https://localhost:8080/"
        },
        "outputId": "59fe2bf2-ade9-4d41-d70c-d81fb98b54bf"
      },
      "source": [
        "b = np.ones((4,2))    # Create an array of all ones, of the given shape.  Note the shape is a tuple.\n",
        "print(b)              "
      ],
      "execution_count": 49,
      "outputs": [
        {
          "output_type": "stream",
          "name": "stdout",
          "text": [
            "[[1. 1.]\n",
            " [1. 1.]\n",
            " [1. 1.]\n",
            " [1. 1.]]\n"
          ]
        }
      ]
    },
    {
      "cell_type": "code",
      "metadata": {
        "id": "3wiNL_9CG50N",
        "colab": {
          "base_uri": "https://localhost:8080/"
        },
        "outputId": "1e7c41cb-9842-4121-8483-432858114770"
      },
      "source": [
        "c = np.full((3,5), 7)  # Create a constant array, of the given shape and constant.\n",
        "print(c)               "
      ],
      "execution_count": 50,
      "outputs": [
        {
          "output_type": "stream",
          "name": "stdout",
          "text": [
            "[[7 7 7 7 7]\n",
            " [7 7 7 7 7]\n",
            " [7 7 7 7 7]]\n"
          ]
        }
      ]
    },
    {
      "cell_type": "code",
      "metadata": {
        "id": "jwkrYAc_G50N",
        "colab": {
          "base_uri": "https://localhost:8080/"
        },
        "outputId": "32bbaef4-eac2-4c29-9a34-3db653719287"
      },
      "source": [
        "d = np.eye(3)         # Create an identity matrix (square) of the given size.\n",
        "print(d)              "
      ],
      "execution_count": 51,
      "outputs": [
        {
          "output_type": "stream",
          "name": "stdout",
          "text": [
            "[[1. 0. 0.]\n",
            " [0. 1. 0.]\n",
            " [0. 0. 1.]]\n"
          ]
        }
      ]
    },
    {
      "cell_type": "code",
      "metadata": {
        "id": "pfskGRu9G50O",
        "colab": {
          "base_uri": "https://localhost:8080/"
        },
        "outputId": "f7da1878-1efc-4c7c-c144-9417887a423c"
      },
      "source": [
        "e = np.random.random((4,4))  # Create an array filled with random floats between 0 and 1.\n",
        "print(e)               "
      ],
      "execution_count": 52,
      "outputs": [
        {
          "output_type": "stream",
          "name": "stdout",
          "text": [
            "[[0.43100016 0.19702727 0.86131491 0.01329985]\n",
            " [0.63537335 0.30981264 0.91079888 0.39878147]\n",
            " [0.95518329 0.69069996 0.24157411 0.28614267]\n",
            " [0.93742195 0.78828864 0.21526961 0.63068171]]\n"
          ]
        }
      ]
    },
    {
      "cell_type": "code",
      "metadata": {
        "id": "ngVvQqdMG50O",
        "colab": {
          "base_uri": "https://localhost:8080/"
        },
        "outputId": "8540259a-3322-4920-ca20-b302966618e5"
      },
      "source": [
        "f = np.random.randint(1,7,(5,3)) # Roll the dice... an array of random integers between 1 and 6.\n",
        "print(f)"
      ],
      "execution_count": 53,
      "outputs": [
        {
          "output_type": "stream",
          "name": "stdout",
          "text": [
            "[[5 3 4]\n",
            " [4 5 6]\n",
            " [2 6 5]\n",
            " [2 2 3]\n",
            " [5 1 2]]\n"
          ]
        }
      ]
    },
    {
      "cell_type": "code",
      "metadata": {
        "id": "oPLVsVKQG50O",
        "colab": {
          "base_uri": "https://localhost:8080/"
        },
        "outputId": "bbe99085-194a-4731-faf5-f3470f0a5677"
      },
      "source": [
        "cube = np.random.random((2,2,2)) # Why stop at 2-dimensional arrays?  Let's make a cube!\n",
        "print(cube)"
      ],
      "execution_count": 54,
      "outputs": [
        {
          "output_type": "stream",
          "name": "stdout",
          "text": [
            "[[[0.39952378 0.30065578]\n",
            "  [0.47589803 0.74023155]]\n",
            "\n",
            " [[0.61805299 0.07807772]\n",
            "  [0.31017785 0.66932723]]]\n"
          ]
        }
      ]
    },
    {
      "cell_type": "markdown",
      "metadata": {
        "id": "IKz4qDEQG50O"
      },
      "source": [
        "NumPy can work with 3-dimensional, 4-dimensional, etc., arrays with ease.  *Printing* high-dimensional arrays on our 2-dimensional computer monitors might not be pretty, but NumPy will do its best.\n",
        "\n",
        "### A random interlude\n",
        "\n",
        "The previous few examples used NumPy's random subpackage -- a series of functions which can be used to generate \"random\" numbers.  There's a whole science to generating \"random\" and [really random](https://en.wikipedia.org/wiki/Hardware_random_number_generator) numbers.  It can be difficult to convince a computer, designed for predictable operations, to produce truly unpredictbale numbers.  In fact, NumPy's random number generator uses the [Mersenne Twister](https://en.wikipedia.org/wiki/Mersenne_Twister) to generate *pseudo-random* numbers.  These are great for most scientific purposes, e.g., for random sampling.  But they are *not* cryptographically secure -- they should be not be used for generating random cryptographic keys to keep your data secure.  \n",
        "\n",
        "Read the [Numpy documentation](https://numpy.org/doc/1.16/reference/routines.random.html) for more about the capabilities of the random subpackage.  Here are a couple examples to give a quick survey."
      ]
    },
    {
      "cell_type": "code",
      "metadata": {
        "id": "SofAdRCWG50O",
        "colab": {
          "base_uri": "https://localhost:8080/"
        },
        "outputId": "ceec4e70-f4a6-4001-cb4b-3627ef31e559"
      },
      "source": [
        "np.random.random(3)  # An array of three numbers, uniformly at random in [0,1)"
      ],
      "execution_count": 55,
      "outputs": [
        {
          "output_type": "execute_result",
          "data": {
            "text/plain": [
              "array([0.62925291, 0.57687035, 0.52141068])"
            ]
          },
          "metadata": {},
          "execution_count": 55
        }
      ]
    },
    {
      "cell_type": "code",
      "metadata": {
        "id": "MgS7Hk8lG50O",
        "colab": {
          "base_uri": "https://localhost:8080/"
        },
        "outputId": "735f6a38-3eb3-4623-8bd7-8cd99b61f0de"
      },
      "source": [
        "np.random.randint(1, 7, (5,5))  # Twenty-five rolls of the dice (random ints).  Note the list-like bottom/top of range."
      ],
      "execution_count": 56,
      "outputs": [
        {
          "output_type": "execute_result",
          "data": {
            "text/plain": [
              "array([[1, 5, 5, 1, 5],\n",
              "       [5, 3, 4, 6, 3],\n",
              "       [6, 6, 5, 5, 2],\n",
              "       [2, 3, 4, 6, 5],\n",
              "       [3, 5, 2, 5, 4]])"
            ]
          },
          "metadata": {},
          "execution_count": 56
        }
      ]
    },
    {
      "cell_type": "code",
      "metadata": {
        "id": "OyP4-jSFG50O",
        "colab": {
          "base_uri": "https://localhost:8080/"
        },
        "outputId": "1105df3f-1151-4bd1-f649-fe1af9764e40"
      },
      "source": [
        "np.random.choice(['apple', 'banana', 'orange', 'plum'], 10) # Ten random choices from the list."
      ],
      "execution_count": 57,
      "outputs": [
        {
          "output_type": "execute_result",
          "data": {
            "text/plain": [
              "array(['plum', 'banana', 'banana', 'banana', 'apple', 'apple', 'banana',\n",
              "       'banana', 'orange', 'apple'], dtype='<U6')"
            ]
          },
          "metadata": {},
          "execution_count": 57
        }
      ]
    },
    {
      "cell_type": "code",
      "metadata": {
        "id": "i2W7sx4uG50O",
        "colab": {
          "base_uri": "https://localhost:8080/"
        },
        "outputId": "d8647dd1-76f8-4115-a8d5-47be2a4f9fe7"
      },
      "source": [
        "np.random.randn(10) # Ten random choices from the *normal* or *Gaussian* distribution, mean 0, std 1."
      ],
      "execution_count": 58,
      "outputs": [
        {
          "output_type": "execute_result",
          "data": {
            "text/plain": [
              "array([ 0.57845221, -0.96239984, -1.1632354 , -1.27880782, -0.12768073,\n",
              "       -1.24695215,  2.48332471, -0.28510838, -0.44105066,  0.06869146])"
            ]
          },
          "metadata": {},
          "execution_count": 58
        }
      ]
    },
    {
      "cell_type": "markdown",
      "metadata": {
        "id": "2fQz10w6G50P"
      },
      "source": [
        "### Accessing and slicing multi-dimensional arrays\n",
        "\n",
        "How do we access the terms of a multi-dimensional array?  Let's return to our 2x3 example."
      ]
    },
    {
      "cell_type": "code",
      "metadata": {
        "id": "oStMIIcrG50P",
        "colab": {
          "base_uri": "https://localhost:8080/"
        },
        "outputId": "a7842a35-5126-431a-af00-8e9078ae366a"
      },
      "source": [
        "print(M) # Remember this matrix?"
      ],
      "execution_count": 59,
      "outputs": [
        {
          "output_type": "stream",
          "name": "stdout",
          "text": [
            "[[1 2 3]\n",
            " [4 5 6]]\n"
          ]
        }
      ]
    },
    {
      "cell_type": "code",
      "metadata": {
        "id": "ijHduhAxG50P",
        "colab": {
          "base_uri": "https://localhost:8080/"
        },
        "outputId": "7c63da66-8e23-420d-ef9f-baf99c018aff"
      },
      "source": [
        "print(M[0,0], M[0,1], M[0,2]) # What do you think this will do?"
      ],
      "execution_count": 60,
      "outputs": [
        {
          "output_type": "stream",
          "name": "stdout",
          "text": [
            "1 2 3\n"
          ]
        }
      ]
    },
    {
      "cell_type": "code",
      "metadata": {
        "id": "Q3OaCet7G50P",
        "colab": {
          "base_uri": "https://localhost:8080/"
        },
        "outputId": "b60cd9c8-a962-417b-c97e-ae6db89bf00d"
      },
      "source": [
        "print(M[1,0],M[1,1],M[1,2]) # And this?"
      ],
      "execution_count": 61,
      "outputs": [
        {
          "output_type": "stream",
          "name": "stdout",
          "text": [
            "4 5 6\n"
          ]
        }
      ]
    },
    {
      "cell_type": "markdown",
      "metadata": {
        "id": "eYe2HMnpG50P"
      },
      "source": [
        "The syntax `M[x,y]` retrieves the value in row #x and column #y, using the Pythonic convention that all numbering starts at zero.  This enables quick access to individual values.  This row-then-column syntax extends to all sorts of array-slicing.  To see this, we begin by creating a bigger matrix.  We'll use the NumPy `reshape` command to take an ordinary 1-dimensional array (the numbers 0...99) and *reshape* this array into a 2-dimensional array with 5 rows and 20 columns."
      ]
    },
    {
      "cell_type": "code",
      "metadata": {
        "id": "8OGXS_qaG50P",
        "colab": {
          "base_uri": "https://localhost:8080/"
        },
        "outputId": "6ca9c165-e27a-4b6a-c74c-6f98e89ae4a3"
      },
      "source": [
        "A = np.array(range(100))\n",
        "print(A) # There might seem to be multiple rows, but that's just because A doesn't fit on a single line.\n",
        "B = np.reshape(A,(5,20))\n",
        "print(B) # Notice the extra brackets!  This is a 2-dimensional array, i.e., a matrix."
      ],
      "execution_count": 62,
      "outputs": [
        {
          "output_type": "stream",
          "name": "stdout",
          "text": [
            "[ 0  1  2  3  4  5  6  7  8  9 10 11 12 13 14 15 16 17 18 19 20 21 22 23\n",
            " 24 25 26 27 28 29 30 31 32 33 34 35 36 37 38 39 40 41 42 43 44 45 46 47\n",
            " 48 49 50 51 52 53 54 55 56 57 58 59 60 61 62 63 64 65 66 67 68 69 70 71\n",
            " 72 73 74 75 76 77 78 79 80 81 82 83 84 85 86 87 88 89 90 91 92 93 94 95\n",
            " 96 97 98 99]\n",
            "[[ 0  1  2  3  4  5  6  7  8  9 10 11 12 13 14 15 16 17 18 19]\n",
            " [20 21 22 23 24 25 26 27 28 29 30 31 32 33 34 35 36 37 38 39]\n",
            " [40 41 42 43 44 45 46 47 48 49 50 51 52 53 54 55 56 57 58 59]\n",
            " [60 61 62 63 64 65 66 67 68 69 70 71 72 73 74 75 76 77 78 79]\n",
            " [80 81 82 83 84 85 86 87 88 89 90 91 92 93 94 95 96 97 98 99]]\n"
          ]
        }
      ]
    },
    {
      "cell_type": "code",
      "metadata": {
        "id": "xgoXloAYG50P",
        "colab": {
          "base_uri": "https://localhost:8080/"
        },
        "outputId": "4b796a07-3e20-4e67-e23b-96b3ade5f141"
      },
      "source": [
        "print(B) # The whole matrix."
      ],
      "execution_count": 63,
      "outputs": [
        {
          "output_type": "stream",
          "name": "stdout",
          "text": [
            "[[ 0  1  2  3  4  5  6  7  8  9 10 11 12 13 14 15 16 17 18 19]\n",
            " [20 21 22 23 24 25 26 27 28 29 30 31 32 33 34 35 36 37 38 39]\n",
            " [40 41 42 43 44 45 46 47 48 49 50 51 52 53 54 55 56 57 58 59]\n",
            " [60 61 62 63 64 65 66 67 68 69 70 71 72 73 74 75 76 77 78 79]\n",
            " [80 81 82 83 84 85 86 87 88 89 90 91 92 93 94 95 96 97 98 99]]\n"
          ]
        }
      ]
    },
    {
      "cell_type": "code",
      "metadata": {
        "id": "g0eQnCLbG50P",
        "colab": {
          "base_uri": "https://localhost:8080/"
        },
        "outputId": "f794bfe2-eaa8-471c-a6fd-3aef3b1e6ebc"
      },
      "source": [
        "print(B[1,:]) # Row 1.  Column anything."
      ],
      "execution_count": 64,
      "outputs": [
        {
          "output_type": "stream",
          "name": "stdout",
          "text": [
            "[20 21 22 23 24 25 26 27 28 29 30 31 32 33 34 35 36 37 38 39]\n"
          ]
        }
      ]
    },
    {
      "cell_type": "code",
      "metadata": {
        "id": "jmvvAphNG50Q",
        "colab": {
          "base_uri": "https://localhost:8080/"
        },
        "outputId": "659c0e64-3a9d-4476-bebb-21a1802e37c6"
      },
      "source": [
        "print(B[:, 2]) # Column 2.  Row anything. Notice that it's formatted as a 1-dimensional array!  No longer vertical!"
      ],
      "execution_count": 65,
      "outputs": [
        {
          "output_type": "stream",
          "name": "stdout",
          "text": [
            "[ 2 22 42 62 82]\n"
          ]
        }
      ]
    },
    {
      "cell_type": "code",
      "metadata": {
        "id": "IVuwLtMxG50Q",
        "colab": {
          "base_uri": "https://localhost:8080/"
        },
        "outputId": "2ea40445-f97d-4b61-85fe-ea732ccdfeec"
      },
      "source": [
        "type(B[:,2]) # Still a numpy array."
      ],
      "execution_count": 66,
      "outputs": [
        {
          "output_type": "execute_result",
          "data": {
            "text/plain": [
              "numpy.ndarray"
            ]
          },
          "metadata": {},
          "execution_count": 66
        }
      ]
    },
    {
      "cell_type": "code",
      "metadata": {
        "id": "1HPO8oFQG50Q",
        "colab": {
          "base_uri": "https://localhost:8080/"
        },
        "outputId": "8b1c9d7d-a0ad-47f9-8e28-3c16599a3ae8"
      },
      "source": [
        "print(B[:, 1::2]) # Every row.  Which columns do you think will be displayed?  Remember start:stop:skip."
      ],
      "execution_count": 67,
      "outputs": [
        {
          "output_type": "stream",
          "name": "stdout",
          "text": [
            "[[ 1  3  5  7  9 11 13 15 17 19]\n",
            " [21 23 25 27 29 31 33 35 37 39]\n",
            " [41 43 45 47 49 51 53 55 57 59]\n",
            " [61 63 65 67 69 71 73 75 77 79]\n",
            " [81 83 85 87 89 91 93 95 97 99]]\n"
          ]
        }
      ]
    },
    {
      "cell_type": "code",
      "metadata": {
        "id": "s-xnNmEqG50Q",
        "colab": {
          "base_uri": "https://localhost:8080/"
        },
        "outputId": "a6c7e80d-e535-42e6-c0e1-91f1d4628e55"
      },
      "source": [
        "print(B[1:, 3:5]) # Predict what will happen before you run it."
      ],
      "execution_count": 68,
      "outputs": [
        {
          "output_type": "stream",
          "name": "stdout",
          "text": [
            "[[23 24]\n",
            " [43 44]\n",
            " [63 64]\n",
            " [83 84]]\n"
          ]
        }
      ]
    },
    {
      "cell_type": "markdown",
      "metadata": {
        "id": "ND6GZDOZG50Q"
      },
      "source": [
        "NumPy has nice commands to operate on rows and columns of arrays."
      ]
    },
    {
      "cell_type": "code",
      "metadata": {
        "id": "-EealhzXG50Q",
        "colab": {
          "base_uri": "https://localhost:8080/"
        },
        "outputId": "2d6251cf-0eac-47b4-b82c-f6e917749243"
      },
      "source": [
        "print(B) # Let's just remember what B was."
      ],
      "execution_count": 69,
      "outputs": [
        {
          "output_type": "stream",
          "name": "stdout",
          "text": [
            "[[ 0  1  2  3  4  5  6  7  8  9 10 11 12 13 14 15 16 17 18 19]\n",
            " [20 21 22 23 24 25 26 27 28 29 30 31 32 33 34 35 36 37 38 39]\n",
            " [40 41 42 43 44 45 46 47 48 49 50 51 52 53 54 55 56 57 58 59]\n",
            " [60 61 62 63 64 65 66 67 68 69 70 71 72 73 74 75 76 77 78 79]\n",
            " [80 81 82 83 84 85 86 87 88 89 90 91 92 93 94 95 96 97 98 99]]\n"
          ]
        }
      ]
    },
    {
      "cell_type": "code",
      "metadata": {
        "id": "Aoja1sXKG50Q",
        "colab": {
          "base_uri": "https://localhost:8080/"
        },
        "outputId": "6553f43c-9c82-4aea-8316-e238372e8166"
      },
      "source": [
        "np.sum(B) # Add up all the terms of B, i.e., 0+1+2+...+99"
      ],
      "execution_count": 70,
      "outputs": [
        {
          "output_type": "execute_result",
          "data": {
            "text/plain": [
              "4950"
            ]
          },
          "metadata": {},
          "execution_count": 70
        }
      ]
    },
    {
      "cell_type": "code",
      "metadata": {
        "id": "l7CYab5UG50R",
        "colab": {
          "base_uri": "https://localhost:8080/"
        },
        "outputId": "f8f9d873-4aac-40eb-d9fb-77cf484adf49"
      },
      "source": [
        "print(np.sum(B, axis=0))  # Try this... what does the result mean?"
      ],
      "execution_count": 71,
      "outputs": [
        {
          "output_type": "stream",
          "name": "stdout",
          "text": [
            "[200 205 210 215 220 225 230 235 240 245 250 255 260 265 270 275 280 285\n",
            " 290 295]\n"
          ]
        }
      ]
    },
    {
      "cell_type": "code",
      "metadata": {
        "id": "zA7ectjuG50R",
        "colab": {
          "base_uri": "https://localhost:8080/"
        },
        "outputId": "86fb469b-bd45-4d29-d497-9b016c24f679"
      },
      "source": [
        "print(np.sum(B, axis=1))  # And what does this result mean?"
      ],
      "execution_count": 72,
      "outputs": [
        {
          "output_type": "stream",
          "name": "stdout",
          "text": [
            "[ 190  590  990 1390 1790]\n"
          ]
        }
      ]
    },
    {
      "cell_type": "code",
      "metadata": {
        "id": "KA0hJhpIG50R"
      },
      "source": [
        "BigM = np.random.random((1000,1000)) # Just a little array of a million random numbers!"
      ],
      "execution_count": 73,
      "outputs": []
    },
    {
      "cell_type": "code",
      "metadata": {
        "id": "DZK-7_MLG50R",
        "colab": {
          "base_uri": "https://localhost:8080/"
        },
        "outputId": "54bafe23-56d5-4e45-960f-b0287086db38"
      },
      "source": [
        "np.sum(BigM) # Let's just add up a million random numbers."
      ],
      "execution_count": 74,
      "outputs": [
        {
          "output_type": "execute_result",
          "data": {
            "text/plain": [
              "499803.0395990459"
            ]
          },
          "metadata": {},
          "execution_count": 74
        }
      ]
    },
    {
      "cell_type": "code",
      "metadata": {
        "id": "e_4lIvN2G50R",
        "colab": {
          "base_uri": "https://localhost:8080/"
        },
        "outputId": "c3e72ea2-53bf-42aa-f365-6cb146287e98"
      },
      "source": [
        "%timeit BigM * BigM # Don't print this one."
      ],
      "execution_count": 75,
      "outputs": [
        {
          "output_type": "stream",
          "name": "stdout",
          "text": [
            "953 µs ± 96.2 µs per loop (mean ± std. dev. of 7 runs, 1000 loops each)\n"
          ]
        }
      ]
    },
    {
      "cell_type": "code",
      "metadata": {
        "id": "rb4Vcs0BG50R",
        "colab": {
          "base_uri": "https://localhost:8080/"
        },
        "outputId": "e7e9790e-508f-4bdc-b773-53d6d98a615d"
      },
      "source": [
        "%timeit np.sum(BigM)"
      ],
      "execution_count": 76,
      "outputs": [
        {
          "output_type": "stream",
          "name": "stdout",
          "text": [
            "467 µs ± 129 µs per loop (mean ± std. dev. of 7 runs, 1000 loops each)\n"
          ]
        }
      ]
    },
    {
      "cell_type": "code",
      "metadata": {
        "id": "uT6MpLFuG50R",
        "colab": {
          "base_uri": "https://localhost:8080/"
        },
        "outputId": "deb69563-a422-4369-b964-c3f35bbad9ae"
      },
      "source": [
        "%timeit np.sum(BigM, axis=0)"
      ],
      "execution_count": 77,
      "outputs": [
        {
          "output_type": "stream",
          "name": "stdout",
          "text": [
            "407 µs ± 8.72 µs per loop (mean ± std. dev. of 7 runs, 1000 loops each)\n"
          ]
        }
      ]
    },
    {
      "cell_type": "markdown",
      "metadata": {
        "id": "i1bfbkmXG50R"
      },
      "source": [
        "The speed of NumPy can be *startling*.  I mean, really really fast.  Really.  Note that a blink of the eye takes about 400 ms.  And there are 1000 µs (microseconds) in 1 ms (millisecond)."
      ]
    },
    {
      "cell_type": "markdown",
      "metadata": {
        "id": "kcpLRWMxG50R"
      },
      "source": [
        "### Matrix multiplication\n",
        "\n",
        "One of the most important computations in linear algebra is matrix multiplication.  If $M$ and $N$ are two matrices, and the number of columns of $M$ equals the number of rows of $N$, then it's possible to multiply $M$ and $N$ to obtain a matrix product.  \n",
        "\n",
        "Explicitly, if $P = M \\cdot N$ is a matrix product, then the entries of $P$ are given by the formula,\n",
        "$$P_{ij} = \\sum_k M_{ik} N_{kj}.$$\n",
        "Here, notation like $M_{ik}$ stands for the entry of $M$ at row $i$ and column $k$.\n",
        "\n",
        "Let's begin by doing this *explicitly* for NumPy matrices."
      ]
    },
    {
      "cell_type": "code",
      "metadata": {
        "id": "YEd7lOvOG50S"
      },
      "source": [
        "def matrix_mult(M,N):\n",
        "    '''\n",
        "    A function to multiply two NumPy matrices.\n",
        "    This is a bit more verbose than necessary, to improve clarity.\n",
        "    '''\n",
        "    Mrows = M.shape[0] # The number of rows of M\n",
        "    Mcols = M.shape[1] # The number of columns of M.\n",
        "    Nrows = N.shape[0] # The number of rows of N.\n",
        "    Ncols = N.shape[1] # The number of columns of N.\n",
        "    if Mcols != Nrows:\n",
        "        raise ValueError('The number of columns and rows do not match.')\n",
        "    P = np.zeros((Mrows,Ncols)) # Initialize the product matrix to all zeros, the right shape.\n",
        "    Prows = Mrows\n",
        "    Pcols = Ncols\n",
        "    for i in range(Prows):\n",
        "        for j in range(Pcols):\n",
        "            # Now we are going to compute P_ij, the entry at row i and column j in the product matrix.\n",
        "            # This is the sum in the above formula.  We set the running total to zero.\n",
        "            S = 0\n",
        "            for k in range(Mcols):\n",
        "                S = S + M[i,k]*N[k,j] # Compare to the formula above!\n",
        "            P[i,j] = S\n",
        "    return P"
      ],
      "execution_count": 78,
      "outputs": []
    },
    {
      "cell_type": "code",
      "metadata": {
        "id": "GR9hWyiyG50S",
        "colab": {
          "base_uri": "https://localhost:8080/"
        },
        "outputId": "3b41d8cd-43a8-4509-a46d-3c3f4cd52a20"
      },
      "source": [
        "A = np.array([[1,2,3],[4,5,6]])\n",
        "print(A)\n",
        "B = np.array([[1,2],[3,4],[5,6]])\n",
        "print(B)"
      ],
      "execution_count": 79,
      "outputs": [
        {
          "output_type": "stream",
          "name": "stdout",
          "text": [
            "[[1 2 3]\n",
            " [4 5 6]]\n",
            "[[1 2]\n",
            " [3 4]\n",
            " [5 6]]\n"
          ]
        }
      ]
    },
    {
      "cell_type": "code",
      "metadata": {
        "id": "2M94QvgJG50S",
        "colab": {
          "base_uri": "https://localhost:8080/"
        },
        "outputId": "a37681a3-659a-4e1a-94da-faecd57cdbb4"
      },
      "source": [
        "print(matrix_mult(A,B)) # Will it work?  Can you predict the shape of the result?"
      ],
      "execution_count": 80,
      "outputs": [
        {
          "output_type": "stream",
          "name": "stdout",
          "text": [
            "[[22. 28.]\n",
            " [49. 64.]]\n"
          ]
        }
      ]
    },
    {
      "cell_type": "markdown",
      "metadata": {
        "id": "mnKarXi6G50S"
      },
      "source": [
        "It's good to study the code above, to understand how it connects to the definition of matrix multiplication.  But since matrix multiplication comes up so often, the designers of NumPy have implemented a highly optimized version.  This is called `dot`."
      ]
    },
    {
      "cell_type": "code",
      "metadata": {
        "scrolled": true,
        "id": "4zdwlNcWG50S",
        "colab": {
          "base_uri": "https://localhost:8080/"
        },
        "outputId": "fc7c8872-dc15-43eb-b800-bdba01d42571"
      },
      "source": [
        "print(np.dot(A,B))"
      ],
      "execution_count": 81,
      "outputs": [
        {
          "output_type": "stream",
          "name": "stdout",
          "text": [
            "[[22 28]\n",
            " [49 64]]\n"
          ]
        }
      ]
    },
    {
      "cell_type": "code",
      "metadata": {
        "id": "e7YswFH_G50S",
        "colab": {
          "base_uri": "https://localhost:8080/"
        },
        "outputId": "df662c90-b5b7-4630-a5e9-6ed5f21788b2"
      },
      "source": [
        "%timeit matrix_mult(A,B)"
      ],
      "execution_count": 82,
      "outputs": [
        {
          "output_type": "stream",
          "name": "stdout",
          "text": [
            "12.2 µs ± 3.6 µs per loop (mean ± std. dev. of 7 runs, 100000 loops each)\n"
          ]
        }
      ]
    },
    {
      "cell_type": "code",
      "metadata": {
        "id": "MUCdKFu_G50S",
        "colab": {
          "base_uri": "https://localhost:8080/"
        },
        "outputId": "42a430fd-28d5-40de-add4-8473adf8365c"
      },
      "source": [
        "%timeit np.dot(A,B)"
      ],
      "execution_count": 83,
      "outputs": [
        {
          "output_type": "stream",
          "name": "stdout",
          "text": [
            "2.35 µs ± 82.3 ns per loop (mean ± std. dev. of 7 runs, 100000 loops each)\n"
          ]
        }
      ]
    },
    {
      "cell_type": "markdown",
      "metadata": {
        "id": "LGXK_6lbG50S"
      },
      "source": [
        "Let's see how the speedup works for bigger matrices... like 100 by 100 matrices with 10000 random floats in each!"
      ]
    },
    {
      "cell_type": "code",
      "metadata": {
        "id": "noU2afJQG50S"
      },
      "source": [
        "A = np.random.random((100,100))\n",
        "B = np.random.random((100,100))"
      ],
      "execution_count": 84,
      "outputs": []
    },
    {
      "cell_type": "code",
      "metadata": {
        "id": "uazliR6fG50S",
        "colab": {
          "base_uri": "https://localhost:8080/"
        },
        "outputId": "29a9bf14-9700-4f1b-be80-5c1cc130d00b"
      },
      "source": [
        "%timeit matrix_mult(A,B)"
      ],
      "execution_count": 85,
      "outputs": [
        {
          "output_type": "stream",
          "name": "stdout",
          "text": [
            "437 ms ± 15.3 ms per loop (mean ± std. dev. of 7 runs, 1 loop each)\n"
          ]
        }
      ]
    },
    {
      "cell_type": "code",
      "metadata": {
        "id": "ulJhtxxaG50T",
        "colab": {
          "base_uri": "https://localhost:8080/"
        },
        "outputId": "dbd44fd8-8dca-4592-95ae-1809687e3148"
      },
      "source": [
        "%timeit np.dot(A,B) # How about that for a speedup!!"
      ],
      "execution_count": 86,
      "outputs": [
        {
          "output_type": "stream",
          "name": "stdout",
          "text": [
            "124 µs ± 35.7 µs per loop (mean ± std. dev. of 7 runs, 10000 loops each)\n"
          ]
        }
      ]
    },
    {
      "cell_type": "markdown",
      "metadata": {
        "id": "Fdj-r-0OG50T"
      },
      "source": [
        "Check the units... how much faster does np.dot run than our basic Python loop implementation?"
      ]
    },
    {
      "cell_type": "markdown",
      "metadata": {
        "id": "fx0ECqIxG50T"
      },
      "source": [
        "### Exercises\n",
        "\n",
        "1.  Put the list of numbers `[1,...,12]` into all possible shapes of 2-dimensional, and 3-dimensional numpy arrays, using the reshape command.  Print the results.  Only try the shapes where all dimensions are greater than one (i.e., don't make a 1 by 12 array).\n",
        "\n",
        "2.  Make a square array containing the numbers `[0,...,99]`.  Use list-slicing syntax to reverse the row-order of this array.  Use list-slicing syntax to *transpose* this array (reflect it across the diagonal of the original).\n",
        "\n",
        "3.  If you roll ten fair 6-sided dice, you expect the total to be 35, on average.  The minimum total would be 10 and the maximum would be 60.  Use numpy to create a array with 50 rows and 10 columns of random dice rolls (random integers between 1 and 6).  By summing rows, create an array of numbers between 10 and 60.  What is the average of this array (a number between 10 and 60)?  What is the standard deviation of this array?  (Use the `np.std` function for standard deviation.)  Use numpy functions throughout -- no loops please!  \n",
        "\n",
        "4.  Define a function `matrix_pow(M,e)` which takes as input a *square* matrix `M` and a natural number `e`.  The output should be the result of matrix multiplication, with `M` multiplied by itself `e` times.  When `e` is zero, the function should output the identity matrix `np.eye(s)` where `s` is the number of rows (or columns) of `M`.\n",
        "\n",
        "5.  The matrix exponential is defined by the same Taylor series as the usual exponential function, but one allows square matrices as inputs instead of just numbers.  Define a function `matrix_exp(M)` which computes the matrix exponential of `M` using the first 20 terms of the (familiar) series, and uses the `matrix_pow` function from the previous question."
      ]
    },
    {
      "cell_type": "code",
      "source": [
        "# 1.\n",
        "twelve_array = np.array(range(1, 13))\n",
        "print(np.reshape(twelve_array, (2, 6)))\n",
        "print(np.reshape(twelve_array, (3, 4)))\n",
        "print(np.reshape(twelve_array, (4, 3)))\n",
        "print(np.reshape(twelve_array, (6, 2)))\n",
        "print(np.reshape(twelve_array, (2, 2, 3)))"
      ],
      "metadata": {
        "id": "xuaFIaBgi_EZ",
        "outputId": "74de8f77-6e4c-459f-fe0c-14f891290e5d",
        "colab": {
          "base_uri": "https://localhost:8080/"
        }
      },
      "execution_count": 87,
      "outputs": [
        {
          "output_type": "stream",
          "name": "stdout",
          "text": [
            "[[ 1  2  3  4  5  6]\n",
            " [ 7  8  9 10 11 12]]\n",
            "[[ 1  2  3  4]\n",
            " [ 5  6  7  8]\n",
            " [ 9 10 11 12]]\n",
            "[[ 1  2  3]\n",
            " [ 4  5  6]\n",
            " [ 7  8  9]\n",
            " [10 11 12]]\n",
            "[[ 1  2]\n",
            " [ 3  4]\n",
            " [ 5  6]\n",
            " [ 7  8]\n",
            " [ 9 10]\n",
            " [11 12]]\n",
            "[[[ 1  2  3]\n",
            "  [ 4  5  6]]\n",
            "\n",
            " [[ 7  8  9]\n",
            "  [10 11 12]]]\n"
          ]
        }
      ]
    },
    {
      "cell_type": "code",
      "source": [
        "# 2.\n",
        "square_array = np.reshape(np.array(range(100)), (10, 10))\n",
        "print(f\"original array: \\n{square_array}\\n\")\n",
        "\n",
        "reversed_row_order = square_array[-1::-1]\n",
        "print(f\"reversed row order array: \\n{reversed_row_order}\\n\")\n",
        "\n",
        "transposed_array = np.zeros((10, 10))\n",
        "for i in range(10):\n",
        "    transposed_array[:, i] = square_array[i, :]\n",
        "print(f\"transposed array: \\n{transposed_array}\")"
      ],
      "metadata": {
        "id": "m6WboBXyj7JC",
        "outputId": "be216a89-52f3-4d2b-94dd-6662f1b7a95d",
        "colab": {
          "base_uri": "https://localhost:8080/"
        }
      },
      "execution_count": 88,
      "outputs": [
        {
          "output_type": "stream",
          "name": "stdout",
          "text": [
            "original array: \n",
            "[[ 0  1  2  3  4  5  6  7  8  9]\n",
            " [10 11 12 13 14 15 16 17 18 19]\n",
            " [20 21 22 23 24 25 26 27 28 29]\n",
            " [30 31 32 33 34 35 36 37 38 39]\n",
            " [40 41 42 43 44 45 46 47 48 49]\n",
            " [50 51 52 53 54 55 56 57 58 59]\n",
            " [60 61 62 63 64 65 66 67 68 69]\n",
            " [70 71 72 73 74 75 76 77 78 79]\n",
            " [80 81 82 83 84 85 86 87 88 89]\n",
            " [90 91 92 93 94 95 96 97 98 99]]\n",
            "\n",
            "reversed row order array: \n",
            "[[90 91 92 93 94 95 96 97 98 99]\n",
            " [80 81 82 83 84 85 86 87 88 89]\n",
            " [70 71 72 73 74 75 76 77 78 79]\n",
            " [60 61 62 63 64 65 66 67 68 69]\n",
            " [50 51 52 53 54 55 56 57 58 59]\n",
            " [40 41 42 43 44 45 46 47 48 49]\n",
            " [30 31 32 33 34 35 36 37 38 39]\n",
            " [20 21 22 23 24 25 26 27 28 29]\n",
            " [10 11 12 13 14 15 16 17 18 19]\n",
            " [ 0  1  2  3  4  5  6  7  8  9]]\n",
            "\n",
            "transposed array: \n",
            "[[ 0. 10. 20. 30. 40. 50. 60. 70. 80. 90.]\n",
            " [ 1. 11. 21. 31. 41. 51. 61. 71. 81. 91.]\n",
            " [ 2. 12. 22. 32. 42. 52. 62. 72. 82. 92.]\n",
            " [ 3. 13. 23. 33. 43. 53. 63. 73. 83. 93.]\n",
            " [ 4. 14. 24. 34. 44. 54. 64. 74. 84. 94.]\n",
            " [ 5. 15. 25. 35. 45. 55. 65. 75. 85. 95.]\n",
            " [ 6. 16. 26. 36. 46. 56. 66. 76. 86. 96.]\n",
            " [ 7. 17. 27. 37. 47. 57. 67. 77. 87. 97.]\n",
            " [ 8. 18. 28. 38. 48. 58. 68. 78. 88. 98.]\n",
            " [ 9. 19. 29. 39. 49. 59. 69. 79. 89. 99.]]\n"
          ]
        }
      ]
    },
    {
      "cell_type": "code",
      "source": [
        "# 3. \n",
        "lots_dice_rolls = np.random.randint(1, 7, (50, 10))\n",
        "sum_rows = np.sum(lots_dice_rolls, axis=1)\n",
        "average = (np.sum(sum_rows) / 50)\n",
        "print(f\"Average: {average}\")\n",
        "print(f\"Standard Deviation: {np.std(sum_rows)}\")"
      ],
      "metadata": {
        "id": "jr1BHtUwp2dT",
        "outputId": "6bd27a18-6fe6-4ebb-d35e-70b1f36b066b",
        "colab": {
          "base_uri": "https://localhost:8080/"
        }
      },
      "execution_count": 89,
      "outputs": [
        {
          "output_type": "stream",
          "name": "stdout",
          "text": [
            "Average: 35.34\n",
            "Standard Deviation: 5.03432219866786\n"
          ]
        }
      ]
    },
    {
      "cell_type": "markdown",
      "source": [
        "5. The matrix exponential is defined by the same Taylor series as the usual exponential function, but one allows square matrices as inputs instead of just numbers. Define a function matrix_exp(M) which computes the matrix exponential of M using the first 20 terms of the (familiar) series, and uses the matrix_pow function from the previous question."
      ],
      "metadata": {
        "id": "R6XhReriyzCH"
      }
    },
    {
      "cell_type": "code",
      "source": [
        "# 4.\n",
        "def matrix_pow(M, e):\n",
        "    if not e:\n",
        "        return np.eye(M.shape[0])\n",
        "    thing = M\n",
        "    for i in range(e):\n",
        "        thing = np.dot(M, thing)\n",
        "    return thing\n",
        "\n",
        "matrix_4 = np.full((4, 4), 2)\n",
        "print(matrix_pow(matrix_4, 2))"
      ],
      "metadata": {
        "id": "Ize-PGdhys05",
        "outputId": "7aff5fbf-265d-473d-e069-5f0ddd257b01",
        "colab": {
          "base_uri": "https://localhost:8080/"
        }
      },
      "execution_count": 90,
      "outputs": [
        {
          "output_type": "stream",
          "name": "stdout",
          "text": [
            "[[128 128 128 128]\n",
            " [128 128 128 128]\n",
            " [128 128 128 128]\n",
            " [128 128 128 128]]\n"
          ]
        }
      ]
    },
    {
      "cell_type": "code",
      "source": [
        "# 5.\n",
        "def matrix_exp(M):\n",
        "    fact = 1\n",
        "    sum = np.eye(M.shape[0])\n",
        "    for i in range(1, 20):\n",
        "        sum += 1/i * matrix_pow(M, i)\n",
        "    return sum"
      ],
      "metadata": {
        "id": "0KCnHrACJQY5"
      },
      "execution_count": 91,
      "outputs": []
    },
    {
      "cell_type": "markdown",
      "metadata": {
        "id": "iQZKmbIbG50T"
      },
      "source": [
        "## Introduction to 2-dimensional graphics in Python\n",
        "\n",
        "The visualization of quantitative information is a huge field of study.  The now-classic book in the field is Edward Tufte's [The Visual Display of Quantitative Information](https://www.edwardtufte.com/tufte/books_vdqi), but you can find much earlier works by the best-named statistician [Playfair](https://en.wikipedia.org/wiki/William_Playfair) or the beautiful but vexing *Semiology of Graphics* by Jacques Bertin.\n",
        "\n",
        "In this notebook, we are going to introduce two tools for visualization.  The first is [matplotlib](https://matplotlib.org/), which has the same number of letters and syllables as [manbearpig](https://en.wikipedia.org/wiki/ManBearPig).  Matplotlib is an excellent tool for creating a huge number of \"standard\" graphs and charts.  It works very nicely in Jupyter notebooks, interfaces with numpy, and is very widely supported.\n",
        "\n",
        "The second tool is [Pillow](https://python-pillow.org/) which is the new and fluffy incarnation of PIL, the Python Imaging Library.  We will use Pillow for \"low-level\" 2-dimensional image manipulation.  Pillow is great when we want to create or modify an image pixel-by-pixel.  It's not so great if we just want to make a graph with some dots, lines, axes, and labels.  \n",
        "\n",
        "Other tools worth consideration are:  [SVGwrite](https://pypi.org/project/svgwrite/) for working with scalable vector graphics and [Bokeh](https://bokeh.pydata.org/en/latest/) for making very pretty interactive graphics on the web.  Also [Seaborn](https://seaborn.pydata.org/) for a visualization system based on matplotlib, but with more modern styling.  For producing print-ready graphics, I use a strange combination of Python and [TikZ/PGF](http://www.texample.net/tikz/examples/all/)."
      ]
    },
    {
      "cell_type": "markdown",
      "metadata": {
        "id": "cagHlDQrG50T"
      },
      "source": [
        "### Introduction to matplotlib\n",
        "\n",
        "Matplotlib can be used to make all sorts of graphs and charts from your data.  Often the best way to use matplotlib is to look at the [matplotlib gallery](https://matplotlib.org/gallery/index.html) and find an example as a starting point.  But it's difficult getting started with matplotlib unless you understand its basic framework.\n",
        "\n",
        "Here we limit ourselves to three fundamental types of visualization in matplotlib:  the [histogram](https://en.wikipedia.org/wiki/Histogram), the [line chart](https://en.wikipedia.org/wiki/Line_chart), and the [scatter plot](https://en.wikipedia.org/wiki/Scatter_plot).  To use matplotlib's plotting capabilities, we load the matplotlib.pyplot package as plt (just as we loaded numpy as np).  The pyplot part of matplotlib is meant to work like Matlab.  You can follow the [official pyplot tutorial](https://matplotlib.org/tutorials/introductory/pyplot.html) for more."
      ]
    },
    {
      "cell_type": "code",
      "metadata": {
        "id": "MdIVQTnAG50T"
      },
      "source": [
        "import matplotlib.pyplot as plt # Use plt.<command> hereafter."
      ],
      "execution_count": 92,
      "outputs": []
    },
    {
      "cell_type": "markdown",
      "metadata": {
        "id": "mC38n2P0G50T"
      },
      "source": [
        "### Scatter plots"
      ]
    },
    {
      "cell_type": "markdown",
      "metadata": {
        "id": "Yx12ZWTAG50T"
      },
      "source": [
        "The *scatter plot* might be the simplest sort of 2-dimensional data visualization.  If your data is a set of ordered pairs $(x,y)$ of numbers, then a scatter plot visualizes this data by putting a dot at every coordinate in the data.  Here is a minimalist example.  Note that the data is organized as *two separate arrays* -- one for the x-coordinates and the other for the y-coordinates.  "
      ]
    },
    {
      "cell_type": "code",
      "metadata": {
        "id": "WI5VgBdWG50U",
        "colab": {
          "base_uri": "https://localhost:8080/"
        },
        "outputId": "08e2a1ab-429c-46a5-acb5-b0ca1cebd5b8"
      },
      "source": [
        "xlist = np.random.randint(1,11,20) # A list of 20 random numbers between 1 and 10\n",
        "ylist = np.random.randint(1,11,20) # Another such list.\n",
        "print(xlist)\n",
        "print(ylist)"
      ],
      "execution_count": 93,
      "outputs": [
        {
          "output_type": "stream",
          "name": "stdout",
          "text": [
            "[10  8  9  3  4 10  1  8  8  5  5  6  9  9  5 10  8  5  6  5]\n",
            "[ 2  5  1  3  5  5  9  3  7  7  8  1 10 10  2  1  7  5  2  5]\n"
          ]
        }
      ]
    },
    {
      "cell_type": "markdown",
      "metadata": {
        "id": "whG9Jt6HG50U"
      },
      "source": [
        "We are going to use these numbers as the x-coordinates and y-coordinates for a series of dots.  A more explicit description is given by running the cell below.  (Also, a reminder of string formatting!)"
      ]
    },
    {
      "cell_type": "code",
      "metadata": {
        "id": "v99tzXdrG50U",
        "colab": {
          "base_uri": "https://localhost:8080/"
        },
        "outputId": "0c95c89a-7d3a-4023-a664-94288761b764"
      },
      "source": [
        "for i in range(len(xlist)):\n",
        "    print(\"({}, {}) will be plotted\".format(xlist[i], ylist[i]))"
      ],
      "execution_count": 94,
      "outputs": [
        {
          "output_type": "stream",
          "name": "stdout",
          "text": [
            "(10, 2) will be plotted\n",
            "(8, 5) will be plotted\n",
            "(9, 1) will be plotted\n",
            "(3, 3) will be plotted\n",
            "(4, 5) will be plotted\n",
            "(10, 5) will be plotted\n",
            "(1, 9) will be plotted\n",
            "(8, 3) will be plotted\n",
            "(8, 7) will be plotted\n",
            "(5, 7) will be plotted\n",
            "(5, 8) will be plotted\n",
            "(6, 1) will be plotted\n",
            "(9, 10) will be plotted\n",
            "(9, 10) will be plotted\n",
            "(5, 2) will be plotted\n",
            "(10, 1) will be plotted\n",
            "(8, 7) will be plotted\n",
            "(5, 5) will be plotted\n",
            "(6, 2) will be plotted\n",
            "(5, 5) will be plotted\n"
          ]
        }
      ]
    },
    {
      "cell_type": "code",
      "metadata": {
        "id": "k5wOAKl1G50U",
        "colab": {
          "base_uri": "https://localhost:8080/",
          "height": 282
        },
        "outputId": "ad168563-9851-4705-bf5a-98e4c84c080f"
      },
      "source": [
        "plt.scatter(xlist, ylist) # A picture should pop up!  If it doesn't, please get help."
      ],
      "execution_count": 95,
      "outputs": [
        {
          "output_type": "execute_result",
          "data": {
            "text/plain": [
              "<matplotlib.collections.PathCollection at 0x7f0ac05318e0>"
            ]
          },
          "metadata": {},
          "execution_count": 95
        },
        {
          "output_type": "display_data",
          "data": {
            "text/plain": [
              "<Figure size 432x288 with 1 Axes>"
            ],
            "image/png": "[encoded data removed]"
          },
          "metadata": {
            "needs_background": "light"
          }
        }
      ]
    },
    {
      "cell_type": "code",
      "metadata": {
        "id": "oOrMfpS-G50U",
        "colab": {
          "base_uri": "https://localhost:8080/",
          "height": 282
        },
        "outputId": "b6fe08ee-1847-47bb-f565-249287b79d91"
      },
      "source": [
        "xlist = np.random.random(500) # A list of 500 random floats between 0 and 1.\n",
        "ylist = np.random.random(500) # Another such list.\n",
        "plt.scatter(xlist, ylist)"
      ],
      "execution_count": 96,
      "outputs": [
        {
          "output_type": "execute_result",
          "data": {
            "text/plain": [
              "<matplotlib.collections.PathCollection at 0x7f0ac03779a0>"
            ]
          },
          "metadata": {},
          "execution_count": 96
        },
        {
          "output_type": "display_data",
          "data": {
            "text/plain": [
              "<Figure size 432x288 with 1 Axes>"
            ],
            "image/png": "[encoded data removed]"
          },
          "metadata": {
            "needs_background": "light"
          }
        }
      ]
    },
    {
      "cell_type": "markdown",
      "metadata": {
        "id": "pyUGT7qFG50U"
      },
      "source": [
        "These examples are minimalist -- the quickest way to produce a plot, using all the matplotlib defaults.  Notice the axis ticks are automatically placed, the color of dots is an intelligent shade of blue, and the dots have a pleasing size and soft edge.  The single `plt.scatter(xlist, ylist)` created quite a complicated image from two lists of numbers.\n",
        "\n",
        "Behind the scenes, there is a lot going on!  In fact, the `plt.scatter` function activates the pyplot *state machine* and *changes its state*.  When the cell containing the `plt.scatter` function is finished with its execution, the figure is rendered as an image in your browser, and the *state machine* is closed down.  \n",
        "\n",
        "This \"state machine\" initializes a data structure, changes it according to `plt.<command>` functions, renders it to your browser, then disposes of the evidence.  Here is a more complicated example, which might be easier to decode."
      ]
    },
    {
      "cell_type": "code",
      "metadata": {
        "id": "jloINAG8G50U",
        "colab": {
          "base_uri": "https://localhost:8080/",
          "height": 404
        },
        "outputId": "ff2f8b83-be95-4e85-990e-a39902dc29e3"
      },
      "source": [
        "xlist = np.random.random(500) # A list of 500 random floats between 0 and 1.\n",
        "ylist = np.random.random(500) # Another such list.\n",
        "\n",
        "plt.figure(figsize=(6,6))\n",
        "plt.scatter(xlist, ylist, alpha=0.5, c='gold', s=50)\n",
        "plt.xlabel('Age of banana slug (in days)')\n",
        "plt.ylabel('Taste of banana slug (1 = tastiest)')\n",
        "plt.title('Age vs taste of banana slugs')\n",
        "plt.show()"
      ],
      "execution_count": 97,
      "outputs": [
        {
          "output_type": "display_data",
          "data": {
            "text/plain": [
              "<Figure size 432x432 with 1 Axes>"
            ],
            "image/png": "[encoded data removed]"
          },
          "metadata": {
            "needs_background": "light"
          }
        }
      ]
    },
    {
      "cell_type": "markdown",
      "metadata": {
        "id": "GMjpmErvG50U"
      },
      "source": [
        "We're going to go through the whole figure-creation and display, line by line.  There's a lot going on!\n",
        "\n",
        "1.  `plt.figure(figsize=(6,6))` starts the pyplot \"state machine\" by initializing a figure which is 6 inches by 6 inches in size.  The size on your screen may appear different, because your browser is smart.  If you want to manually set the figure size, you should do this before everything else.  All other `plt` commands in the cell will operate on this figure (the \"state\" of the \"state machine\").  Here is the basic [anatomy of a matplotlib figure](https://matplotlib.org/tutorials/introductory/usage.html)... it's quite complicated!\n",
        "\n",
        "2.  `plt.scatter(xlist, ylist, alpha=0.5, c='gold', s=50)`.  This uses pyplot's built-in scatter-plot-maker.  The xlist and ylist are the lists of x-coordinates and y-coordinates... the data which is being plotted.  The `alpha` parameter sets the transparency of the dots, which is very important when there are overlaps!  An alpha value of 1 yields completely opaque dots.  The `c` parameter sets the color of the dots.  Here the dot color is set to `gold`.  Here is a [list of named colors](https://matplotlib.org/examples/color/named_colors.html).  More fun than crayons!  The `s` parameter sets the size of the dots, measured by area.  Here is the [complete list of parameters](https://matplotlib.org/api/_as_gen/matplotlib.pyplot.scatter.html) that can be passed to the `plt.scatter` function.\n",
        "\n",
        "3.  `plt.xlabel('Age of banana slug (in days)')`.  This sets the label on the x-axis of the active figure.\n",
        "\n",
        "4.  `plt.ylabel('Taste of banana slug (1 = tastiest)')`.  This sets the label on the y-axis of the active figure.\n",
        "\n",
        "5.  `plt.title('Age vs taste of banana slugs')`.  This sets the title of the active figure.\n",
        "\n",
        "6.  `plt.show()`.  Not strictly necessary, but a good habit.  This shows the plot.  After the cell is run, the \"state machine\" is effectively turned off and forgotten.  `plt` commands in later cells will not be able to change the plot you've created.\n",
        "\n",
        "You might wish to change some of the parameters in the above figure, and re-run the cell, to see the effect."
      ]
    },
    {
      "cell_type": "code",
      "metadata": {
        "id": "qJ47fta6G50U",
        "colab": {
          "base_uri": "https://localhost:8080/",
          "height": 300
        },
        "outputId": "40e09026-3088-45e3-c708-ed98149edb8b"
      },
      "source": [
        "plt.xlabel('Can I change the label?')"
      ],
      "execution_count": 98,
      "outputs": [
        {
          "output_type": "execute_result",
          "data": {
            "text/plain": [
              "Text(0.5, 0, 'Can I change the label?')"
            ]
          },
          "metadata": {},
          "execution_count": 98
        },
        {
          "output_type": "display_data",
          "data": {
            "text/plain": [
              "<Figure size 432x288 with 1 Axes>"
            ],
            "image/png": "[encoded data removed]"
          },
          "metadata": {
            "needs_background": "light"
          }
        }
      ]
    },
    {
      "cell_type": "markdown",
      "metadata": {
        "id": "-iXNZr6nG50U"
      },
      "source": [
        "When the banana-slug cell was executed, its state machine was turned off.  So if you try to make a change in a new cell with `plt.xlabel('...')`, you will end up *restarting* the state-machine in a mostly empty state, and then setting the xlabel of this new figure.  When you run the new cell, the figure is displayed, with your new label, and that state machine is terminated."
      ]
    },
    {
      "cell_type": "markdown",
      "metadata": {
        "id": "kN8n7rzxG50V"
      },
      "source": [
        "Now we will make a scatterplot using the sine function.  Along the way, we use the numpy `arange` function.  The function `np.arange(a,b,s)` generates a numpy array which starts at `a` and ends *before* `b` and uses a step-size of `s`.  It's a lot like a range command, but... note that the `arange` function *does* put all the numbers into memory.  So beware and do not try to store a trillion numbers in your computer memory!"
      ]
    },
    {
      "cell_type": "code",
      "metadata": {
        "id": "l2xpLSqpG50V",
        "colab": {
          "base_uri": "https://localhost:8080/"
        },
        "outputId": "6c2e5812-868f-495d-dfed-6d2d06de7030"
      },
      "source": [
        "print(np.arange(0,10,1)) # Looks familiar?"
      ],
      "execution_count": 99,
      "outputs": [
        {
          "output_type": "stream",
          "name": "stdout",
          "text": [
            "[0 1 2 3 4 5 6 7 8 9]\n"
          ]
        }
      ]
    },
    {
      "cell_type": "code",
      "metadata": {
        "id": "lDxnZs3FG50V",
        "colab": {
          "base_uri": "https://localhost:8080/"
        },
        "outputId": "97a93249-2663-4948-b0f0-95b668683519"
      },
      "source": [
        "print(np.arange(0,5,0.3)) # A bit more flexible."
      ],
      "execution_count": 100,
      "outputs": [
        {
          "output_type": "stream",
          "name": "stdout",
          "text": [
            "[0.  0.3 0.6 0.9 1.2 1.5 1.8 2.1 2.4 2.7 3.  3.3 3.6 3.9 4.2 4.5 4.8]\n"
          ]
        }
      ]
    },
    {
      "cell_type": "code",
      "metadata": {
        "id": "uBcK29uqG50V",
        "colab": {
          "base_uri": "https://localhost:8080/",
          "height": 164
        },
        "outputId": "288bd60f-aa01-4c69-cf6d-9f1addcf10ff"
      },
      "source": [
        "range(0,5,0.3) # The range command does not play nicely with floats."
      ],
      "execution_count": 101,
      "outputs": [
        {
          "output_type": "error",
          "ename": "TypeError",
          "evalue": "ignored",
          "traceback": [
            "\u001b[0;31m---------------------------------------------------------------------------\u001b[0m",
            "\u001b[0;31mTypeError\u001b[0m                                 Traceback (most recent call last)",
            "\u001b[0;32m<ipython-input-101-975c6898fb50>\u001b[0m in \u001b[0;36m<module>\u001b[0;34m\u001b[0m\n\u001b[0;32m----> 1\u001b[0;31m \u001b[0mrange\u001b[0m\u001b[0;34m(\u001b[0m\u001b[0;36m0\u001b[0m\u001b[0;34m,\u001b[0m\u001b[0;36m5\u001b[0m\u001b[0;34m,\u001b[0m\u001b[0;36m0.3\u001b[0m\u001b[0;34m)\u001b[0m \u001b[0;31m# The range command does not play nicely with floats.\u001b[0m\u001b[0;34m\u001b[0m\u001b[0;34m\u001b[0m\u001b[0m\n\u001b[0m",
            "\u001b[0;31mTypeError\u001b[0m: 'float' object cannot be interpreted as an integer"
          ]
        }
      ]
    },
    {
      "cell_type": "code",
      "metadata": {
        "id": "s5rb1SR5G50V"
      },
      "source": [
        "xlist = np.arange(0, 10,0.1) # The list 0,0.1, 0.2, 0.3, etc. up to 9.9.\n",
        "sinlist = np.sin(xlist) # apply the sine function to each item in the list, via broadcasting.\n",
        "coslist = np.cos(xlist)"
      ],
      "execution_count": 102,
      "outputs": []
    },
    {
      "cell_type": "code",
      "metadata": {
        "id": "-un5urMfG50V",
        "colab": {
          "base_uri": "https://localhost:8080/",
          "height": 350
        },
        "outputId": "d6caba25-a04b-4bf6-9a0c-29e71e7b3b00"
      },
      "source": [
        "plt.figure(figsize=(15,5))\n",
        "plt.scatter(xlist, sinlist, alpha=0.5, c='blue', marker='x') # See the marker?\n",
        "plt.scatter(xlist, coslist, alpha=0.5, c='red', marker='o') # Multiple plots, no problem!\n",
        "plt.grid() # A grid might help.\n",
        "plt.xlabel('Time (in seconds)')\n",
        "plt.ylabel('Height of ball on spring (in cm)')\n",
        "plt.title('Observed trajectory of balls on spring')\n",
        "plt.show()"
      ],
      "execution_count": 103,
      "outputs": [
        {
          "output_type": "display_data",
          "data": {
            "text/plain": [
              "<Figure size 1080x360 with 1 Axes>"
            ],
            "image/png": "[encoded data removed]"
          },
          "metadata": {
            "needs_background": "light"
          }
        }
      ]
    },
    {
      "cell_type": "markdown",
      "metadata": {
        "id": "P9QotgZyG50V"
      },
      "source": [
        "### Line plots in matplotlib\n",
        "\n",
        "The previous example contains plots of the sine and cosine functions.  It is a bit unusual to plot functions with scatterplots; one would typically use a plot that \"connects the dots\" to reflect the continuity of the functions. While `plt.scatter` produces a scatter-plot, the simply-named `plt.plot` command produces a plot that connects the dots.   "
      ]
    },
    {
      "cell_type": "code",
      "metadata": {
        "id": "tC4B89EhG50V",
        "colab": {
          "base_uri": "https://localhost:8080/",
          "height": 351
        },
        "outputId": "9e690aaf-1f24-48f1-e232-8f3b9d368835"
      },
      "source": [
        "plt.figure(figsize=(15,5))\n",
        "plt.plot(xlist, sinlist, alpha=0.5, c='blue') \n",
        "plt.plot(xlist, coslist, alpha=0.5, c='red') # Multiple plots, no problem!\n",
        "plt.grid() # A grid might help.\n",
        "plt.xlabel('$x$') # Notice the dollar signs... matplotlib understands basic LaTeX in text!\n",
        "plt.ylabel('$y$')\n",
        "plt.title('Graphs of $y = \\sin(x)$ and $y = \\cos(x)$')\n",
        "plt.show()"
      ],
      "execution_count": 104,
      "outputs": [
        {
          "output_type": "display_data",
          "data": {
            "text/plain": [
              "<Figure size 1080x360 with 1 Axes>"
            ],
            "image/png": "[encoded data removed]"
          },
          "metadata": {
            "needs_background": "light"
          }
        }
      ]
    },
    {
      "cell_type": "markdown",
      "metadata": {
        "id": "7IFx8KA_G50V"
      },
      "source": [
        "Like everything with matplotlib, there are zillions of possible adjustments and additions one can make to this plot.  Here we just mention two.\n",
        "\n",
        "1.  Changing the axis ticks to be more relevant.\n",
        "2.  A *legend* that is advisable when plotting multiple functions."
      ]
    },
    {
      "cell_type": "code",
      "metadata": {
        "id": "U3W2o0H5G50V",
        "colab": {
          "base_uri": "https://localhost:8080/",
          "height": 351
        },
        "outputId": "6dab3d67-ef03-4537-a0b7-92496a356cb9"
      },
      "source": [
        "plt.figure(figsize=(15,5))\n",
        "plt.plot(xlist, sinlist, alpha=0.5, c='blue', label='$y=\\sin(x)$') # label for the legend.\n",
        "plt.plot(xlist, coslist, alpha=0.5, c='red', label='$y=\\cos(x)$') # label for the legend.\n",
        "plt.xticks(np.arange(0,10,np.pi/2)) # x-axis ticks (gridlines) are at multiples of pi/2.\n",
        "plt.grid() # A grid might help.\n",
        "plt.xlabel('$x$') # Notice the dollar signs... matplotlib understands basic LaTeX in text!\n",
        "plt.ylabel('$y$')\n",
        "plt.title('Graphs of $y = \\sin(x)$ and $y = \\cos(x)$')\n",
        "plt.legend() # Insert the legend, based on the plot labels.\n",
        "plt.show()"
      ],
      "execution_count": 107,
      "outputs": [
        {
          "output_type": "display_data",
          "data": {
            "text/plain": [
              "<Figure size 1080x360 with 1 Axes>"
            ],
            "image/png": "[encoded data removed]"
          },
          "metadata": {
            "needs_background": "light"
          }
        }
      ]
    },
    {
      "cell_type": "markdown",
      "metadata": {
        "id": "Sfse_MuRG50W"
      },
      "source": [
        "Note the x-ticks are at $0$, $\\pi/2$, $\\pi$, $3 \\pi / 2$, etc..  But they are labeled by floating point values.  We can fix this by making custom labels.  We store the x-tick locations in a numpy array `pimult` and the x-tick labels in another numpy array (of strings) `xlabels`.  It's a bit tedious, but the result will look nice.  Note that matplotlib will process the basic LaTeX that we use in the labels."
      ]
    },
    {
      "cell_type": "code",
      "metadata": {
        "id": "OIW7QynZG50W"
      },
      "source": [
        "pimult = np.arange(0,10,np.pi / 2) # The list of locations of the x-ticks.\n",
        "xlabels = np.array(['0', '$\\pi/2$', '$\\pi$', '$3 \\pi / 2$', '$2 \\pi$', '$5 \\pi / 2$', '$3 \\pi$'])"
      ],
      "execution_count": 108,
      "outputs": []
    },
    {
      "cell_type": "code",
      "metadata": {
        "id": "8a9Qm7iyG50W",
        "colab": {
          "base_uri": "https://localhost:8080/",
          "height": 354
        },
        "outputId": "8c87a77b-342a-4253-b28c-e612985e0742"
      },
      "source": [
        "plt.figure(figsize=(15,5))\n",
        "plt.plot(xlist, sinlist, alpha=0.5, c='blue', label='$y=\\sin(x)$') # label for the legend.\n",
        "plt.plot(xlist, coslist, alpha=0.5, c='red', label='$y=\\cos(x)$') # label for the legend.\n",
        "plt.xticks(pimult, xlabels) # x-axis ticks and labels.\n",
        "plt.grid() # A grid might help.\n",
        "plt.xlabel('$x$') # Notice the dollar signs... matplotlib understands basic LaTeX in text!\n",
        "plt.ylabel('$y$')\n",
        "plt.title('Graphs of $y = \\sin(x)$ and $y = \\cos(x)$')\n",
        "plt.legend() # Insert the legend, based on the plot labels.\n",
        "plt.show()"
      ],
      "execution_count": 109,
      "outputs": [
        {
          "output_type": "display_data",
          "data": {
            "text/plain": [
              "<Figure size 1080x360 with 1 Axes>"
            ],
            "image/png": "[encoded data removed]"
          },
          "metadata": {
            "needs_background": "light"
          }
        }
      ]
    },
    {
      "cell_type": "markdown",
      "metadata": {
        "id": "m5zcUpMNG50W"
      },
      "source": [
        "For plotting functions, there are many tools out there.  One can use [Desmos](https://www.desmos.com/), for example, or Excel, or *Grapher* (preinstalled on every Apple computer).  But the line plotting in matplotlib is more flexible than most.  For example, let's plot a \"random walk\"."
      ]
    },
    {
      "cell_type": "code",
      "metadata": {
        "id": "qpLTZgXeG50W"
      },
      "source": [
        "xlist = np.zeros(100) # Initialize arrays of zeros.\n",
        "ylist = np.zeros(100) \n",
        "x,y = 0,0 # We start at (0,0).\n",
        "for t in range(100):  # t will be the \"time\" parameter for the walk.\n",
        "    xlist[t] = x\n",
        "    ylist[t] = y\n",
        "    x += np.random.random()-0.5 # Add a random number between -0.5 and 0.5 to x.\n",
        "    y += np.random.random()-0.5 # Add a random number between -0.5 and 0.5 to x."
      ],
      "execution_count": 110,
      "outputs": []
    },
    {
      "cell_type": "markdown",
      "metadata": {
        "id": "x7XGaj-mG50W"
      },
      "source": [
        "Note that we began by initializing xlist and ylist to an array of zeros, and *not* an empty array.  We did *not* begin with `xlist = np.array([])` and then append new x-values.  There's an important reason for this, having to do with the optimization of NumPy.  \n",
        "\n",
        "When NumPy stores an array, it finds a block of *consecutive* memory slots for the array values.  So if you start with an array of 100 zeros (as float64s), NumPy will find 6400 consecutive bits of memory in your computer, and set them to represent 100 consecutive zeros (each stored in a 64-bit clump).  \n",
        "\n",
        "If you *append* to a NumPy array, NumPy will be annoyed.  NumPy has already found a perfectly-sized block of memory for your data, and now you are asking NumPy to fit more data in the block.  So NumPy will go out and hunt for a new perfectly-sized block of memory to fit your data... every single time you append.  This will waste resources and make NumPy sad.\n",
        "\n",
        "On the other hand, NumPy will be perfectly happy to *change* the bits of memory that it has allocated.  So starting with all zeros, and changing those zeros to other 64-bit numbers, will keep NumPy HapPy."
      ]
    },
    {
      "cell_type": "code",
      "metadata": {
        "id": "gVV09TBKG50W",
        "colab": {
          "base_uri": "https://localhost:8080/",
          "height": 350
        },
        "outputId": "2cad74f3-5ee6-4a76-9f30-5820f4471d82"
      },
      "source": [
        "plt.figure(figsize=(5,5))\n",
        "plt.plot(xlist, ylist, alpha=0.5, c='blue') # label for the legend.\n",
        "plt.grid() # A grid might help.\n",
        "plt.xlabel('$x$') # Notice the dollar signs... matplotlib understands basic LaTeX in text!\n",
        "plt.ylabel('$y$')\n",
        "plt.title('A random walk in 2 dimensions')\n",
        "plt.show()"
      ],
      "execution_count": 111,
      "outputs": [
        {
          "output_type": "display_data",
          "data": {
            "text/plain": [
              "<Figure size 360x360 with 1 Axes>"
            ],
            "image/png": "[encoded data removed]"
          },
          "metadata": {
            "needs_background": "light"
          }
        }
      ]
    },
    {
      "cell_type": "markdown",
      "metadata": {
        "id": "RWyw7DBkG50W"
      },
      "source": [
        "### Histograms in matplotlib\n",
        "\n",
        "A *histogram* is most frequently used to display the *distribution* of a single numerical variable.  In other words, if one has a big *set* of numbers, a histogram is used to display how these numbers are distributed:  are they clumped near a \"center\" or are they \"multimodal\" (having multiple \"centers\")?  Are they \"uniformly distributed\" within a range?  How much \"noise\" is present?  \n",
        "\n",
        "To understand histograms, we begin with a set of numbers, represented in a numpy array.  \n",
        "Read the [full histogram documentation](https://matplotlib.org/api/_as_gen/matplotlib.pyplot.hist.html) for more!"
      ]
    },
    {
      "cell_type": "code",
      "metadata": {
        "id": "wCVGbl67G50W"
      },
      "source": [
        "A = np.random.random(100) # A list of 100 random numbers between 0 and 1."
      ],
      "execution_count": 112,
      "outputs": []
    },
    {
      "cell_type": "markdown",
      "metadata": {
        "id": "1nwi9NySG50W"
      },
      "source": [
        "The following code is a minimalist sort of histogram."
      ]
    },
    {
      "cell_type": "code",
      "metadata": {
        "id": "X676TbLCG50X",
        "colab": {
          "base_uri": "https://localhost:8080/",
          "height": 336
        },
        "outputId": "3e032257-02e4-4bbf-b32b-12c873ade205"
      },
      "source": [
        "plt.figure(figsize=(5,5))\n",
        "plt.hist(A, bins=10) # Divide the range of numbers into 10 \"bins\".\n",
        "plt.grid()\n",
        "plt.title(\"Histogram of 100 random numbers between 0.0 and 1.0\")\n",
        "plt.show()"
      ],
      "execution_count": 113,
      "outputs": [
        {
          "output_type": "display_data",
          "data": {
            "text/plain": [
              "<Figure size 360x360 with 1 Axes>"
            ],
            "image/png": "[encoded data removed]"
          },
          "metadata": {
            "needs_background": "light"
          }
        }
      ]
    },
    {
      "cell_type": "markdown",
      "metadata": {
        "id": "sf4VZrRYG50X"
      },
      "source": [
        "The new ingredient here is the `plt.hist(A, bins=10)` command.  This carries out the following steps.\n",
        "\n",
        "1.  It identifies the smallest value of the array `A` and the largest value of the array `A`, and subdivides the space between this min and max into 10 \"bins\".\n",
        "\n",
        "2.  It counts the number of values within each bin.\n",
        "\n",
        "3.  It draws a bar for each bin, whose height is the number of values within each bin.\n",
        "\n",
        "For histogram, the automatic layout is often difficult to read.  We can choose the bins manually, and add xticks and yticks, to display the information more clearly.  We are going to use the `np.linspace` command, explained just below."
      ]
    },
    {
      "cell_type": "code",
      "metadata": {
        "id": "zlnwf2N4G50X",
        "colab": {
          "base_uri": "https://localhost:8080/",
          "height": 336
        },
        "outputId": "0872c16e-2666-41c0-d0bc-4b1b57d619d6"
      },
      "source": [
        "plt.figure(figsize=(5,5))\n",
        "plt.hist(A, bins=np.linspace(0,1,11)) # Divide the range of numbers into 10 \"bins\".\n",
        "plt.plot ((0,1), (10,10)) # Compare to the flat distribution.\n",
        "plt.xticks(np.linspace(0,1,11))\n",
        "plt.yticks(np.arange(0,20,1))\n",
        "plt.grid()\n",
        "plt.title(\"Histogram of 100 random numbers between 0.0 and 1.0\")\n",
        "plt.show()"
      ],
      "execution_count": 114,
      "outputs": [
        {
          "output_type": "display_data",
          "data": {
            "text/plain": [
              "<Figure size 360x360 with 1 Axes>"
            ],
            "image/png": "[encoded data removed]"
          },
          "metadata": {
            "needs_background": "light"
          }
        }
      ]
    },
    {
      "cell_type": "markdown",
      "metadata": {
        "id": "YvL09iFsG50X"
      },
      "source": [
        "The only new ingredient was the `np.linspace` command, which is a very useful variant of `np.arange`.  The command `np.arange(start, stop, step)` creates a numpy array that begins at `start` and ends *just before* `stop` using intervals of `step`.  This should be familiar from the usual Python `range` command.\n",
        "\n",
        "The command `np.linspace(start, stop, length)` creates a numpy array that begins at `start` and ends *at* `stop`, using `length` evenly spaced values.  This is particularly useful for graphing, where you might know the domain interval and the number of samples you wish to compute."
      ]
    },
    {
      "cell_type": "markdown",
      "metadata": {
        "id": "SqnpCrSCG50X"
      },
      "source": [
        "### Matplotlib Exercises\n",
        "\n",
        "1.  Use `np.arange` and `np.linspace` to product the same numpy array `array([ 0.,  1.,  2.,  3.,  4.,  5.,  6.,  7.,  8.,  9., 10.])`.  \n",
        "\n",
        "2.  Create numpy arrays `xlist` and `ylist`, such that their scatter plot contains 100 evenly spaced points on the unit circle.\n",
        "\n",
        "3.  Use numpy to create a 10000 by 100 array of numbers, randomly chosen from {0,1}, with the command `R = np.random.choice([0,1], (10000,100))`.  You can think of each entry as a coin-toss, with 0 standing for tails and 1 for heads.  Now sum the rows of this array, to get an array of 10000 numbers between 0 and 100.  Make a histogram of this array to exhibit the [central limit theorem](https://en.wikipedia.org/wiki/Central_limit_theorem).  Use at least 20 bins.  Try this with other random choices of numbers, e.g., replacing [0,1] by other small lists of numbers.  How is the horizontal center of the histogram peak related to the list of numbers you choose?  Extra time? compare to the normal distribution by overlaying a suitable plt.plot."
      ]
    },
    {
      "cell_type": "code",
      "metadata": {
        "id": "X9VVZo4lG50X",
        "colab": {
          "base_uri": "https://localhost:8080/"
        },
        "outputId": "61e2c273-e282-484f-a0b3-5f1e39dbdb71"
      },
      "source": [
        "# Use this space for the exercises.\n",
        "# Make sure each plot is in a different cell!\n",
        "# 1. \n",
        "print(np.arange(0, 11, 1.0))\n",
        "print(np.linspace(0, 10, 11))"
      ],
      "execution_count": 125,
      "outputs": [
        {
          "output_type": "stream",
          "name": "stdout",
          "text": [
            "[ 0.  1.  2.  3.  4.  5.  6.  7.  8.  9. 10.]\n",
            "[ 0.  1.  2.  3.  4.  5.  6.  7.  8.  9. 10.]\n"
          ]
        }
      ]
    },
    {
      "cell_type": "code",
      "source": [
        "# 2.\n",
        "xlist = np.zeros(100)\n",
        "ylist = np.zeros(100)\n"
      ],
      "metadata": {
        "id": "x6idSSTUeqF9"
      },
      "execution_count": null,
      "outputs": []
    },
    {
      "cell_type": "markdown",
      "metadata": {
        "id": "S4v1eb4XG50X"
      },
      "source": [
        "## Visualization with pillow\n",
        "\n",
        "The Python Imaging Library (PIL) was started over 20 years ago, as a package for working with images (in formats like jpg, png, bmp, etc.) in Python.  Development of PIL mostly stopped in 2011, but is thankfully revived as [Pillow](https://pillow.readthedocs.io/en/stable/) (the \"friendly PIL fork\").  \n",
        "\n",
        "Let's see if it works, with some basic code below."
      ]
    },
    {
      "cell_type": "code",
      "metadata": {
        "id": "YvKtBdJhG50X"
      },
      "source": [
        "from PIL import Image # Load the package."
      ],
      "execution_count": null,
      "outputs": []
    },
    {
      "cell_type": "markdown",
      "metadata": {
        "id": "HtjTaDGzG50X"
      },
      "source": [
        "A matplotlib figure is built of certain elements -- axes, labels, dots, lines, legends, grids, ticks, etc..  By design, these elements are meant to be assembled into a large but standard zoo of scientific graphics.\n",
        "\n",
        "In contrast, PIL works with images at a more rudimentary level.  In the lines below, we use NumPy to create a 3-dimensional array of numbers, and then use PIL to turn these numbers into an image, save the image, and display the image."
      ]
    },
    {
      "cell_type": "code",
      "metadata": {
        "id": "FNParaoxG50Y"
      },
      "source": [
        "array = np.zeros([256, 256, 3], dtype=np.uint8) # Recall uint8 = unsigned 8-bit integer.  Must be in 0...255.\n",
        "for x in range(256): \n",
        "    for y in range(256): \n",
        "        array[x, y] = [x, y, 256-x//2]"
      ],
      "execution_count": null,
      "outputs": []
    },
    {
      "cell_type": "code",
      "metadata": {
        "id": "HhRRBlFQG50Y"
      },
      "source": [
        "img = Image.fromarray(array) # Create an image from the array.\n",
        "img.save('testrgba.png') # Save the image to Google's computer as a png file.  May not work well with colab.\n",
        "display(img) # Display the image in the notebook."
      ],
      "execution_count": null,
      "outputs": []
    },
    {
      "cell_type": "code",
      "metadata": {
        "id": "-uuRQmX6MX8z"
      },
      "source": [
        "from google.colab import files\n",
        "files.download('testrgba.png')  # If you want to download the PNG file to your computer."
      ],
      "execution_count": null,
      "outputs": []
    },
    {
      "cell_type": "markdown",
      "metadata": {
        "id": "GFOWp7i3G50Y"
      },
      "source": [
        "To understand how this works, it is helpful to understand a bit more about light, computer monitors, and images-as-data.  Light is electromagnetic radiation, and it travels through space in waves.  Light waves with a wavelength of about 400-700 nanometers stimulate cells on our retina, and therefore are *visible*.  Longer wavelength light includes infrared, microwave, and radio waves.  Shorter wavelength light includes ultraviolet and x-rays.\n",
        "\n",
        "For most of us, our retinas contain 3 types of \"cone cells\" which are responsive to different wavelengths of light.  Some are most responsive to light in the low 400 nm range, others to light in the low 500nm range, others in the mid 500nm range.  Signals from these three kinds of cells get passed to the brain, and we are able to distinguish between different wavelengths (in the 400-700nm range) by which cells are more or less activated.\n",
        "\n",
        "If you see light purely in the 400-450 nm range, it looks pretty blue, whereas light at the 650-700 nm range looks pretty red.  A typical red laser pointer shines light that's close to 650nm.\n",
        "\n",
        "Your computer monitor contains millions of *pixels* -- extremely tiny these days (often below 100 micrometers square).  Each pixel contains a red, a blue, and a green subpixel.  Each of these subpixels is individually dimmable, and is often set between 0 (completely off) and 255 (completely on).  In this way, each pixel can be black (red = 0, blue = 0, green = 0) or bright pure red (red = 255, blue = 0, green = 0) or white (red = 255, blue = 255, green = 255).\n",
        "\n",
        "To understand how this makes \"white\" or \"yellow\" or all the other colors in the rainbow, you need to understand an *additive* color scheme as well as how light is perceived.  When light of multiple wavelengths hits your retina, your brain perceives a certain color.  In fact, if light of a red wavelength (680nm) and green wavelength (510nm) hits your retina at the same time, your brain will see it exactly the same as light of a yellow wavelength (560nm).  When you look at a bright yellow picture on your computer monitor, your computer is actually shining red and green light at your retina... the red and green dots are just so tiny and closely packed that your brain doesn't know the difference.\n",
        "\n",
        "The code below creates a 200 by 200 by 3 array of numbers, each between 0 and 255.  But you should think about it as a 200 by 200 array of quadruples of the form `[red value, green value, blue value]`.  Each value can be between 0 and 255 -- it is represented as a np.uint8.\n",
        "\n",
        "This array is then turned into a PIL Image with the `Image.fromarray` function.  Then the PIL function `display` displays the image.  Notice how red+green looks yellow.  Experiment with the red, green, and blue values to see what happens!\n"
      ]
    },
    {
      "cell_type": "code",
      "metadata": {
        "id": "boa_dH73G50Y"
      },
      "source": [
        "solid = np.zeros((200, 200,3), dtype=np.uint8)\n",
        "for x in range(200):\n",
        "    for y in range(200):\n",
        "        solid[y,x] = [255,255,0] # Red = 255, Green = 255, Blue = 0\n",
        "img = Image.fromarray(solid) # Create an image from the array.\n",
        "display(img)"
      ],
      "execution_count": null,
      "outputs": []
    },
    {
      "cell_type": "code",
      "metadata": {
        "id": "FMWAKRs1G50Y"
      },
      "source": [
        "gradient = np.zeros((256, 256,3), dtype=np.uint8)\n",
        "for x in range(256):\n",
        "    for y in range(256):\n",
        "        gradient[y,x] = [x,128,0] # Red = x, Green = 128, Blue = 0\n",
        "img = Image.fromarray(gradient) # Create an image from the array.\n",
        "display(img)"
      ],
      "execution_count": null,
      "outputs": []
    },
    {
      "cell_type": "markdown",
      "metadata": {
        "id": "3NNvd0ApG50Y"
      },
      "source": [
        "There is something terribly confusing that happens when one goes back and forth between PIL images and NumPy arrays.  The x-coordinate and y-coordinate gets switched.  Notice in the above code that `gradient[y,x]` is being assigned a value `[x,128,0]`  This means that as x changes, the color chages (from green to orange).  The RGB triple stored in `gradient[y,x]` corresponds to the pixel with x-coordinate x.  That's why `[y,x]` is used and not `[x,y]`."
      ]
    },
    {
      "cell_type": "markdown",
      "metadata": {
        "id": "ieJX_F6QG50Y"
      },
      "source": [
        "When we save images, we will use the png [portable network graphics](https://en.wikipedia.org/wiki/Portable_Network_Graphics) image format.  This is very commonly used for graphics on the web, and can be used to store all of the red/green/blue bytes of data in a rectangular image.  Most importantly for us, the png format is *lossless* -- every pixel will be saved as intended in a png file.  On the other hand, formats like jpeg *lose information* as they compress the image.\n",
        "\n",
        "We can use Python (with PIL) to open images, modify them as NumPy arrays, and then display them and save them as images again."
      ]
    },
    {
      "cell_type": "markdown",
      "metadata": {
        "id": "bOfoV6ioG50Y"
      },
      "source": [
        "To practice a bit of image manipulation, we are going to fix a very strange looking cat.  Begin by downloading the file `meowp.png` from this [GitHub link](https://github.com/MartyWeissman/PythonForMathematics/blob/main/meowp.png)  onto your computer.  Then use the following command to upload it to Google's server."
      ]
    },
    {
      "cell_type": "code",
      "metadata": {
        "id": "oDx5iZPNMAC9"
      },
      "source": [
        "files.upload()"
      ],
      "execution_count": null,
      "outputs": []
    },
    {
      "cell_type": "code",
      "metadata": {
        "scrolled": true,
        "id": "MK0RD32KG50Z"
      },
      "source": [
        "cat = Image.open('meowp.png')\n",
        "display(cat)"
      ],
      "execution_count": null,
      "outputs": []
    },
    {
      "cell_type": "markdown",
      "metadata": {
        "id": "mahv8ShVG50Z"
      },
      "source": [
        "To examine the image file, let's display a few things."
      ]
    },
    {
      "cell_type": "code",
      "metadata": {
        "id": "L4XWk0mLG50Z"
      },
      "source": [
        "print(cat.format) # What format does the image have?\n",
        "print(cat.size) # What are the dimensions of the image?\n",
        "print(cat.mode) # What is the color-mode of the image?"
      ],
      "execution_count": null,
      "outputs": []
    },
    {
      "cell_type": "markdown",
      "metadata": {
        "id": "wz0euj_zG50Z"
      },
      "source": [
        "To manipulate this image, let's covert it to a NumPy array."
      ]
    },
    {
      "cell_type": "code",
      "metadata": {
        "id": "Vrkin5ZvG50Z"
      },
      "source": [
        "catarray = np.asarray(cat)\n",
        "print(catarray.shape)"
      ],
      "execution_count": null,
      "outputs": []
    },
    {
      "cell_type": "markdown",
      "metadata": {
        "id": "9EsuuiP1G50Z"
      },
      "source": [
        "If you look at the image, it looks like the red, green, and blue parts have been separated and overlayed in some weird way.  We can look at the red-channel only by creating a new red-only image.  We use the `catarray.copy()` command at the beginning to put our red-cat data into a new NumPy array (without harming the original catarray!)"
      ]
    },
    {
      "cell_type": "code",
      "metadata": {
        "id": "KkVmIK-fG50Z"
      },
      "source": [
        "redcatarray = catarray.copy()\n",
        "redcatarray[:,:,[1,2]] = 0  # Set all green and blue values equal to zero.\n",
        "display(Image.fromarray(redcatarray))"
      ],
      "execution_count": null,
      "outputs": []
    },
    {
      "cell_type": "markdown",
      "metadata": {
        "id": "iH57ybNVG50Z"
      },
      "source": [
        "Now let's look at the green channel by itself."
      ]
    },
    {
      "cell_type": "code",
      "metadata": {
        "id": "PYXAO9XYG50a"
      },
      "source": [
        "greencatarray = catarray.copy()\n",
        "greencatarray[:,:,[0,2]] = 0\n",
        "display(Image.fromarray(greencatarray))"
      ],
      "execution_count": null,
      "outputs": []
    },
    {
      "cell_type": "markdown",
      "metadata": {
        "id": "JY8gPiAhG50a"
      },
      "source": [
        "Now we see the problem!  Complete the exercises below to fix the image."
      ]
    },
    {
      "cell_type": "markdown",
      "metadata": {
        "id": "i_HgiRj5G50a"
      },
      "source": [
        "### Exercises\n",
        "\n",
        "1.  Create a gradient-square which is blue at the top and red at the bottom.  \n",
        "\n",
        "2.  Create and display the blue channel of the cat-image.  \n",
        "\n",
        "3.  Flip the blue and green cat-images, so that they match the orientation of the red image.  Hint:  remember that `L[-1::-1]` reversed a list.  Try this syntax with the NumPy arrays!  Watch your x- and y- axis reversal! \n",
        "\n",
        "4.  Assemble the three properly oriented images (match the orientation of the red image) to assemble a complete RGB kitty.  Can you assemble the image without using any loops?\n",
        "\n",
        "5.  (A little bit of [steganography](https://en.wikipedia.org/wiki/Steganography)!)  There's a coded message in the green channel, once it's oriented correctly.  The message is located at y-coordinate 10 and x-coordinates 0,8,16,24,32,etc.  Find this message by using applying the `chr` function to the green values at these locations.  If you want to experiment, the `ord` function converts characters (one-letter strings) to uint8's and the `chr` function converts uint8's to characters, using ASCII code."
      ]
    },
    {
      "cell_type": "code",
      "metadata": {
        "id": "8AiBJaWGG50b"
      },
      "source": [],
      "execution_count": null,
      "outputs": []
    },
    {
      "cell_type": "code",
      "metadata": {
        "id": "6O-ed7HSG50b"
      },
      "source": [],
      "execution_count": null,
      "outputs": []
    }
  ]
}